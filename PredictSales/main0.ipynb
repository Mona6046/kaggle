{
  "nbformat": 4,
  "nbformat_minor": 0,
  "metadata": {
    "colab": {
      "name": "Untitled0.ipynb",
      "provenance": [],
      "collapsed_sections": [],
      "toc_visible": true,
      "mount_file_id": "1850tPaf_yKEUVoIKbQLk1qRad66k0Tgr",
      "authorship_tag": "ABX9TyMxE+5ONFdWteP7Dg6qU3OK",
      "include_colab_link": true
    },
    "kernelspec": {
      "name": "python3",
      "display_name": "Python 3"
    }
  },
  "cells": [
    {
      "cell_type": "markdown",
      "metadata": {
        "id": "view-in-github",
        "colab_type": "text"
      },
      "source": [
        "<a href=\"https://colab.research.google.com/github/Mona6046/kaggle/blob/main/PredictSales/main0.ipynb\" target=\"_parent\"><img src=\"https://colab.research.google.com/assets/colab-badge.svg\" alt=\"Open In Colab\"/></a>"
      ]
    },
    {
      "cell_type": "code",
      "metadata": {
        "id": "14mr9ZIAkvqU",
        "outputId": "976d121b-0f85-45b8-e2d8-a716d4fc3cd9",
        "colab": {
          "base_uri": "https://localhost:8080/",
          "height": 74
        }
      },
      "source": [
        "import io\n",
        "import pandas as pd\n",
        "import numpy as np\n",
        "import matplotlib.pyplot as plt\n",
        "import seaborn as sns\n",
        "import matplotlib.mlab as mlab\n",
        "from statsmodels.tsa.stattools import adfuller, acf, pacf,arma_order_select_ic"
      ],
      "execution_count": null,
      "outputs": [
        {
          "output_type": "stream",
          "text": [
            "/usr/local/lib/python3.6/dist-packages/statsmodels/tools/_testing.py:19: FutureWarning: pandas.util.testing is deprecated. Use the functions in the public API at pandas.testing instead.\n",
            "  import pandas.util.testing as tm\n"
          ],
          "name": "stderr"
        }
      ]
    },
    {
      "cell_type": "code",
      "metadata": {
        "id": "z15QnaepU0h8"
      },
      "source": [
        ""
      ],
      "execution_count": null,
      "outputs": []
    },
    {
      "cell_type": "code",
      "metadata": {
        "id": "N14tTQ3oXHRE"
      },
      "source": [
        "from google.colab import drive\n",
        "\n",
        "drive.mount('/content/gdrive')"
      ],
      "execution_count": null,
      "outputs": []
    },
    {
      "cell_type": "code",
      "metadata": {
        "id": "sKIqhvx7-Ao-"
      },
      "source": [
        "from google.colab import files\n",
        "#uploaded = files.upload()\n",
        "downloaded=files.download('items.csv')\n"
      ],
      "execution_count": null,
      "outputs": []
    },
    {
      "cell_type": "code",
      "metadata": {
        "id": "vj6GmsBuAbZJ"
      },
      "source": [
        "items_df = pd.read_csv('/content/drive/My Drive/Colab Notebooks/items.csv')\n",
        "item_cat_df = pd.read_csv('/content/drive/My Drive/Colab Notebooks/item_categories.csv')\n",
        "sales_train_df = pd.read_csv('/content/drive/My Drive/Colab Notebooks/sales_train.csv')\n",
        "test_df = pd.read_csv('/content/drive/My Drive/Colab Notebooks/test.csv')\n",
        "shops_df = pd.read_csv('/content/drive/My Drive/Colab Notebooks/shops.csv')"
      ],
      "execution_count": null,
      "outputs": []
    },
    {
      "cell_type": "code",
      "metadata": {
        "id": "JJdW76KNcPLj"
      },
      "source": [
        ""
      ],
      "execution_count": null,
      "outputs": []
    },
    {
      "cell_type": "code",
      "metadata": {
        "id": "RWABOKUb9nXN",
        "outputId": "4378f60b-54cd-4585-9e21-ca383868a40e",
        "colab": {
          "base_uri": "https://localhost:8080/",
          "height": 407
        }
      },
      "source": [
        "test_df"
      ],
      "execution_count": null,
      "outputs": [
        {
          "output_type": "execute_result",
          "data": {
            "text/html": [
              "<div>\n",
              "<style scoped>\n",
              "    .dataframe tbody tr th:only-of-type {\n",
              "        vertical-align: middle;\n",
              "    }\n",
              "\n",
              "    .dataframe tbody tr th {\n",
              "        vertical-align: top;\n",
              "    }\n",
              "\n",
              "    .dataframe thead th {\n",
              "        text-align: right;\n",
              "    }\n",
              "</style>\n",
              "<table border=\"1\" class=\"dataframe\">\n",
              "  <thead>\n",
              "    <tr style=\"text-align: right;\">\n",
              "      <th></th>\n",
              "      <th>ID</th>\n",
              "      <th>shop_id</th>\n",
              "      <th>item_id</th>\n",
              "    </tr>\n",
              "  </thead>\n",
              "  <tbody>\n",
              "    <tr>\n",
              "      <th>0</th>\n",
              "      <td>0</td>\n",
              "      <td>5</td>\n",
              "      <td>5037</td>\n",
              "    </tr>\n",
              "    <tr>\n",
              "      <th>1</th>\n",
              "      <td>1</td>\n",
              "      <td>5</td>\n",
              "      <td>5320</td>\n",
              "    </tr>\n",
              "    <tr>\n",
              "      <th>2</th>\n",
              "      <td>2</td>\n",
              "      <td>5</td>\n",
              "      <td>5233</td>\n",
              "    </tr>\n",
              "    <tr>\n",
              "      <th>3</th>\n",
              "      <td>3</td>\n",
              "      <td>5</td>\n",
              "      <td>5232</td>\n",
              "    </tr>\n",
              "    <tr>\n",
              "      <th>4</th>\n",
              "      <td>4</td>\n",
              "      <td>5</td>\n",
              "      <td>5268</td>\n",
              "    </tr>\n",
              "    <tr>\n",
              "      <th>...</th>\n",
              "      <td>...</td>\n",
              "      <td>...</td>\n",
              "      <td>...</td>\n",
              "    </tr>\n",
              "    <tr>\n",
              "      <th>214195</th>\n",
              "      <td>214195</td>\n",
              "      <td>45</td>\n",
              "      <td>18454</td>\n",
              "    </tr>\n",
              "    <tr>\n",
              "      <th>214196</th>\n",
              "      <td>214196</td>\n",
              "      <td>45</td>\n",
              "      <td>16188</td>\n",
              "    </tr>\n",
              "    <tr>\n",
              "      <th>214197</th>\n",
              "      <td>214197</td>\n",
              "      <td>45</td>\n",
              "      <td>15757</td>\n",
              "    </tr>\n",
              "    <tr>\n",
              "      <th>214198</th>\n",
              "      <td>214198</td>\n",
              "      <td>45</td>\n",
              "      <td>19648</td>\n",
              "    </tr>\n",
              "    <tr>\n",
              "      <th>214199</th>\n",
              "      <td>214199</td>\n",
              "      <td>45</td>\n",
              "      <td>969</td>\n",
              "    </tr>\n",
              "  </tbody>\n",
              "</table>\n",
              "<p>214200 rows × 3 columns</p>\n",
              "</div>"
            ],
            "text/plain": [
              "            ID  shop_id  item_id\n",
              "0            0        5     5037\n",
              "1            1        5     5320\n",
              "2            2        5     5233\n",
              "3            3        5     5232\n",
              "4            4        5     5268\n",
              "...        ...      ...      ...\n",
              "214195  214195       45    18454\n",
              "214196  214196       45    16188\n",
              "214197  214197       45    15757\n",
              "214198  214198       45    19648\n",
              "214199  214199       45      969\n",
              "\n",
              "[214200 rows x 3 columns]"
            ]
          },
          "metadata": {
            "tags": []
          },
          "execution_count": 4
        }
      ]
    },
    {
      "cell_type": "code",
      "metadata": {
        "id": "YLVkFiEPkJdD",
        "outputId": "cd5a51e7-8cb0-484a-98a5-6847cedcca36",
        "colab": {
          "base_uri": "https://localhost:8080/",
          "height": 145
        }
      },
      "source": [
        "## ... check for NAs in sense Pandas understands them\n",
        "sales_train_df.isnull().sum()"
      ],
      "execution_count": null,
      "outputs": [
        {
          "output_type": "execute_result",
          "data": {
            "text/plain": [
              "date              0\n",
              "date_block_num    0\n",
              "shop_id           0\n",
              "item_id           0\n",
              "item_price        0\n",
              "item_cnt_day      0\n",
              "dtype: int64"
            ]
          },
          "metadata": {
            "tags": []
          },
          "execution_count": 5
        }
      ]
    },
    {
      "cell_type": "code",
      "metadata": {
        "id": "3BNDDJUzmZRr"
      },
      "source": [
        "sales_df=(sales_train_df.join(items_df, on='item_id', how='left',  rsuffix='r')).join(item_cat_df, on='item_category_id', how='left', rsuffix='r').join(shops_df, on='shop_id', how='left', rsuffix='r')"
      ],
      "execution_count": null,
      "outputs": []
    },
    {
      "cell_type": "code",
      "metadata": {
        "id": "j4OUtd_ckP6w",
        "outputId": "5f9e196b-e924-49f9-91d1-825aac20636b",
        "colab": {
          "base_uri": "https://localhost:8080/",
          "height": 1000
        }
      },
      "source": [
        "sales_df"
      ],
      "execution_count": null,
      "outputs": [
        {
          "output_type": "execute_result",
          "data": {
            "text/html": [
              "<div>\n",
              "<style scoped>\n",
              "    .dataframe tbody tr th:only-of-type {\n",
              "        vertical-align: middle;\n",
              "    }\n",
              "\n",
              "    .dataframe tbody tr th {\n",
              "        vertical-align: top;\n",
              "    }\n",
              "\n",
              "    .dataframe thead th {\n",
              "        text-align: right;\n",
              "    }\n",
              "</style>\n",
              "<table border=\"1\" class=\"dataframe\">\n",
              "  <thead>\n",
              "    <tr style=\"text-align: right;\">\n",
              "      <th></th>\n",
              "      <th>date</th>\n",
              "      <th>date_block_num</th>\n",
              "      <th>shop_id</th>\n",
              "      <th>item_id</th>\n",
              "      <th>item_price</th>\n",
              "      <th>item_cnt_day</th>\n",
              "      <th>item_name</th>\n",
              "      <th>item_idr</th>\n",
              "      <th>item_category_id</th>\n",
              "      <th>item_category_name</th>\n",
              "      <th>item_category_idr</th>\n",
              "      <th>shop_name</th>\n",
              "      <th>shop_idr</th>\n",
              "    </tr>\n",
              "  </thead>\n",
              "  <tbody>\n",
              "    <tr>\n",
              "      <th>0</th>\n",
              "      <td>02.01.2013</td>\n",
              "      <td>0</td>\n",
              "      <td>59</td>\n",
              "      <td>22154</td>\n",
              "      <td>999.00</td>\n",
              "      <td>1.0</td>\n",
              "      <td>ЯВЛЕНИЕ 2012 (BD)</td>\n",
              "      <td>22154</td>\n",
              "      <td>37</td>\n",
              "      <td>Кино - Blu-Ray</td>\n",
              "      <td>37</td>\n",
              "      <td>Ярославль ТЦ \"Альтаир\"</td>\n",
              "      <td>59</td>\n",
              "    </tr>\n",
              "    <tr>\n",
              "      <th>1</th>\n",
              "      <td>03.01.2013</td>\n",
              "      <td>0</td>\n",
              "      <td>25</td>\n",
              "      <td>2552</td>\n",
              "      <td>899.00</td>\n",
              "      <td>1.0</td>\n",
              "      <td>DEEP PURPLE  The House Of Blue Light  LP</td>\n",
              "      <td>2552</td>\n",
              "      <td>58</td>\n",
              "      <td>Музыка - Винил</td>\n",
              "      <td>58</td>\n",
              "      <td>Москва ТРК \"Атриум\"</td>\n",
              "      <td>25</td>\n",
              "    </tr>\n",
              "    <tr>\n",
              "      <th>2</th>\n",
              "      <td>05.01.2013</td>\n",
              "      <td>0</td>\n",
              "      <td>25</td>\n",
              "      <td>2552</td>\n",
              "      <td>899.00</td>\n",
              "      <td>-1.0</td>\n",
              "      <td>DEEP PURPLE  The House Of Blue Light  LP</td>\n",
              "      <td>2552</td>\n",
              "      <td>58</td>\n",
              "      <td>Музыка - Винил</td>\n",
              "      <td>58</td>\n",
              "      <td>Москва ТРК \"Атриум\"</td>\n",
              "      <td>25</td>\n",
              "    </tr>\n",
              "    <tr>\n",
              "      <th>3</th>\n",
              "      <td>06.01.2013</td>\n",
              "      <td>0</td>\n",
              "      <td>25</td>\n",
              "      <td>2554</td>\n",
              "      <td>1709.05</td>\n",
              "      <td>1.0</td>\n",
              "      <td>DEEP PURPLE  Who Do You Think We Are  LP</td>\n",
              "      <td>2554</td>\n",
              "      <td>58</td>\n",
              "      <td>Музыка - Винил</td>\n",
              "      <td>58</td>\n",
              "      <td>Москва ТРК \"Атриум\"</td>\n",
              "      <td>25</td>\n",
              "    </tr>\n",
              "    <tr>\n",
              "      <th>4</th>\n",
              "      <td>15.01.2013</td>\n",
              "      <td>0</td>\n",
              "      <td>25</td>\n",
              "      <td>2555</td>\n",
              "      <td>1099.00</td>\n",
              "      <td>1.0</td>\n",
              "      <td>DEEP PURPLE 30 Very Best Of 2CD (Фирм.)</td>\n",
              "      <td>2555</td>\n",
              "      <td>56</td>\n",
              "      <td>Музыка - CD фирменного производства</td>\n",
              "      <td>56</td>\n",
              "      <td>Москва ТРК \"Атриум\"</td>\n",
              "      <td>25</td>\n",
              "    </tr>\n",
              "    <tr>\n",
              "      <th>...</th>\n",
              "      <td>...</td>\n",
              "      <td>...</td>\n",
              "      <td>...</td>\n",
              "      <td>...</td>\n",
              "      <td>...</td>\n",
              "      <td>...</td>\n",
              "      <td>...</td>\n",
              "      <td>...</td>\n",
              "      <td>...</td>\n",
              "      <td>...</td>\n",
              "      <td>...</td>\n",
              "      <td>...</td>\n",
              "      <td>...</td>\n",
              "    </tr>\n",
              "    <tr>\n",
              "      <th>2935844</th>\n",
              "      <td>10.10.2015</td>\n",
              "      <td>33</td>\n",
              "      <td>25</td>\n",
              "      <td>7409</td>\n",
              "      <td>299.00</td>\n",
              "      <td>1.0</td>\n",
              "      <td>V/A Nu Jazz Selection (digipack)</td>\n",
              "      <td>7409</td>\n",
              "      <td>55</td>\n",
              "      <td>Музыка - CD локального производства</td>\n",
              "      <td>55</td>\n",
              "      <td>Москва ТРК \"Атриум\"</td>\n",
              "      <td>25</td>\n",
              "    </tr>\n",
              "    <tr>\n",
              "      <th>2935845</th>\n",
              "      <td>09.10.2015</td>\n",
              "      <td>33</td>\n",
              "      <td>25</td>\n",
              "      <td>7460</td>\n",
              "      <td>299.00</td>\n",
              "      <td>1.0</td>\n",
              "      <td>V/A The Golden Jazz Collection  1  2CD</td>\n",
              "      <td>7460</td>\n",
              "      <td>55</td>\n",
              "      <td>Музыка - CD локального производства</td>\n",
              "      <td>55</td>\n",
              "      <td>Москва ТРК \"Атриум\"</td>\n",
              "      <td>25</td>\n",
              "    </tr>\n",
              "    <tr>\n",
              "      <th>2935846</th>\n",
              "      <td>14.10.2015</td>\n",
              "      <td>33</td>\n",
              "      <td>25</td>\n",
              "      <td>7459</td>\n",
              "      <td>349.00</td>\n",
              "      <td>1.0</td>\n",
              "      <td>V/A The Best Of The 3 Tenors</td>\n",
              "      <td>7459</td>\n",
              "      <td>55</td>\n",
              "      <td>Музыка - CD локального производства</td>\n",
              "      <td>55</td>\n",
              "      <td>Москва ТРК \"Атриум\"</td>\n",
              "      <td>25</td>\n",
              "    </tr>\n",
              "    <tr>\n",
              "      <th>2935847</th>\n",
              "      <td>22.10.2015</td>\n",
              "      <td>33</td>\n",
              "      <td>25</td>\n",
              "      <td>7440</td>\n",
              "      <td>299.00</td>\n",
              "      <td>1.0</td>\n",
              "      <td>V/A Relax Collection  Planet MP3 (mp3-CD) (jewel)</td>\n",
              "      <td>7440</td>\n",
              "      <td>57</td>\n",
              "      <td>Музыка - MP3</td>\n",
              "      <td>57</td>\n",
              "      <td>Москва ТРК \"Атриум\"</td>\n",
              "      <td>25</td>\n",
              "    </tr>\n",
              "    <tr>\n",
              "      <th>2935848</th>\n",
              "      <td>03.10.2015</td>\n",
              "      <td>33</td>\n",
              "      <td>25</td>\n",
              "      <td>7460</td>\n",
              "      <td>299.00</td>\n",
              "      <td>1.0</td>\n",
              "      <td>V/A The Golden Jazz Collection  1  2CD</td>\n",
              "      <td>7460</td>\n",
              "      <td>55</td>\n",
              "      <td>Музыка - CD локального производства</td>\n",
              "      <td>55</td>\n",
              "      <td>Москва ТРК \"Атриум\"</td>\n",
              "      <td>25</td>\n",
              "    </tr>\n",
              "  </tbody>\n",
              "</table>\n",
              "<p>2935849 rows × 13 columns</p>\n",
              "</div>"
            ],
            "text/plain": [
              "               date  date_block_num  ...               shop_name  shop_idr\n",
              "0        02.01.2013               0  ...  Ярославль ТЦ \"Альтаир\"        59\n",
              "1        03.01.2013               0  ...     Москва ТРК \"Атриум\"        25\n",
              "2        05.01.2013               0  ...     Москва ТРК \"Атриум\"        25\n",
              "3        06.01.2013               0  ...     Москва ТРК \"Атриум\"        25\n",
              "4        15.01.2013               0  ...     Москва ТРК \"Атриум\"        25\n",
              "...             ...             ...  ...                     ...       ...\n",
              "2935844  10.10.2015              33  ...     Москва ТРК \"Атриум\"        25\n",
              "2935845  09.10.2015              33  ...     Москва ТРК \"Атриум\"        25\n",
              "2935846  14.10.2015              33  ...     Москва ТРК \"Атриум\"        25\n",
              "2935847  22.10.2015              33  ...     Москва ТРК \"Атриум\"        25\n",
              "2935848  03.10.2015              33  ...     Москва ТРК \"Атриум\"        25\n",
              "\n",
              "[2935849 rows x 13 columns]"
            ]
          },
          "metadata": {
            "tags": []
          },
          "execution_count": 7
        }
      ]
    },
    {
      "cell_type": "code",
      "metadata": {
        "id": "tsYviGv3kUIZ",
        "outputId": "d8145219-8273-41d9-95d3-2aad9b9cab9b",
        "colab": {
          "base_uri": "https://localhost:8080/",
          "height": 381
        }
      },
      "source": [
        "sales_df.info()"
      ],
      "execution_count": null,
      "outputs": [
        {
          "output_type": "stream",
          "text": [
            "<class 'pandas.core.frame.DataFrame'>\n",
            "RangeIndex: 2935849 entries, 0 to 2935848\n",
            "Data columns (total 13 columns):\n",
            " #   Column              Dtype  \n",
            "---  ------              -----  \n",
            " 0   date                object \n",
            " 1   date_block_num      int64  \n",
            " 2   shop_id             int64  \n",
            " 3   item_id             int64  \n",
            " 4   item_price          float64\n",
            " 5   item_cnt_day        float64\n",
            " 6   item_name           object \n",
            " 7   item_idr            int64  \n",
            " 8   item_category_id    int64  \n",
            " 9   item_category_name  object \n",
            " 10  item_category_idr   int64  \n",
            " 11  shop_name           object \n",
            " 12  shop_idr            int64  \n",
            "dtypes: float64(2), int64(7), object(4)\n",
            "memory usage: 291.2+ MB\n"
          ],
          "name": "stdout"
        }
      ]
    },
    {
      "cell_type": "code",
      "metadata": {
        "id": "xMexKb6tkafK"
      },
      "source": [
        "sales_df['date']=pd.to_datetime(sales_df['date'], format='%d.%m.%Y', errors='coerce')\n",
        "sales_df['fw']=sales_df['date'].dt.week\n",
        "sales_df['fm']=sales_df['date'].dt.month\n",
        "sales_df['fy']=sales_df['date'].dt.year\n",
        "sales_df['wd']=sales_df['date'].dt.dayofweek\n",
        "sales_df['sales']=sales_df['item_price']*sales_df['item_cnt_day']"
      ],
      "execution_count": null,
      "outputs": []
    },
    {
      "cell_type": "code",
      "metadata": {
        "id": "_FcL_S7JlV-r",
        "outputId": "edc4aefb-1da7-4452-849c-8a653cdb16d1",
        "colab": {
          "base_uri": "https://localhost:8080/",
          "height": 1000
        }
      },
      "source": [
        "sales_df"
      ],
      "execution_count": null,
      "outputs": [
        {
          "output_type": "execute_result",
          "data": {
            "text/html": [
              "<div>\n",
              "<style scoped>\n",
              "    .dataframe tbody tr th:only-of-type {\n",
              "        vertical-align: middle;\n",
              "    }\n",
              "\n",
              "    .dataframe tbody tr th {\n",
              "        vertical-align: top;\n",
              "    }\n",
              "\n",
              "    .dataframe thead th {\n",
              "        text-align: right;\n",
              "    }\n",
              "</style>\n",
              "<table border=\"1\" class=\"dataframe\">\n",
              "  <thead>\n",
              "    <tr style=\"text-align: right;\">\n",
              "      <th></th>\n",
              "      <th>date</th>\n",
              "      <th>date_block_num</th>\n",
              "      <th>shop_id</th>\n",
              "      <th>item_id</th>\n",
              "      <th>item_price</th>\n",
              "      <th>item_cnt_day</th>\n",
              "      <th>item_name</th>\n",
              "      <th>item_idr</th>\n",
              "      <th>item_category_id</th>\n",
              "      <th>item_category_name</th>\n",
              "      <th>item_category_idr</th>\n",
              "      <th>shop_name</th>\n",
              "      <th>shop_idr</th>\n",
              "      <th>fw</th>\n",
              "      <th>fm</th>\n",
              "      <th>fy</th>\n",
              "      <th>wd</th>\n",
              "      <th>sales</th>\n",
              "    </tr>\n",
              "  </thead>\n",
              "  <tbody>\n",
              "    <tr>\n",
              "      <th>0</th>\n",
              "      <td>2013-01-02</td>\n",
              "      <td>0</td>\n",
              "      <td>59</td>\n",
              "      <td>22154</td>\n",
              "      <td>999.00</td>\n",
              "      <td>1.0</td>\n",
              "      <td>ЯВЛЕНИЕ 2012 (BD)</td>\n",
              "      <td>22154</td>\n",
              "      <td>37</td>\n",
              "      <td>Кино - Blu-Ray</td>\n",
              "      <td>37</td>\n",
              "      <td>Ярославль ТЦ \"Альтаир\"</td>\n",
              "      <td>59</td>\n",
              "      <td>1</td>\n",
              "      <td>1</td>\n",
              "      <td>2013</td>\n",
              "      <td>2</td>\n",
              "      <td>999.00</td>\n",
              "    </tr>\n",
              "    <tr>\n",
              "      <th>1</th>\n",
              "      <td>2013-01-03</td>\n",
              "      <td>0</td>\n",
              "      <td>25</td>\n",
              "      <td>2552</td>\n",
              "      <td>899.00</td>\n",
              "      <td>1.0</td>\n",
              "      <td>DEEP PURPLE  The House Of Blue Light  LP</td>\n",
              "      <td>2552</td>\n",
              "      <td>58</td>\n",
              "      <td>Музыка - Винил</td>\n",
              "      <td>58</td>\n",
              "      <td>Москва ТРК \"Атриум\"</td>\n",
              "      <td>25</td>\n",
              "      <td>1</td>\n",
              "      <td>1</td>\n",
              "      <td>2013</td>\n",
              "      <td>3</td>\n",
              "      <td>899.00</td>\n",
              "    </tr>\n",
              "    <tr>\n",
              "      <th>2</th>\n",
              "      <td>2013-01-05</td>\n",
              "      <td>0</td>\n",
              "      <td>25</td>\n",
              "      <td>2552</td>\n",
              "      <td>899.00</td>\n",
              "      <td>-1.0</td>\n",
              "      <td>DEEP PURPLE  The House Of Blue Light  LP</td>\n",
              "      <td>2552</td>\n",
              "      <td>58</td>\n",
              "      <td>Музыка - Винил</td>\n",
              "      <td>58</td>\n",
              "      <td>Москва ТРК \"Атриум\"</td>\n",
              "      <td>25</td>\n",
              "      <td>1</td>\n",
              "      <td>1</td>\n",
              "      <td>2013</td>\n",
              "      <td>5</td>\n",
              "      <td>-899.00</td>\n",
              "    </tr>\n",
              "    <tr>\n",
              "      <th>3</th>\n",
              "      <td>2013-01-06</td>\n",
              "      <td>0</td>\n",
              "      <td>25</td>\n",
              "      <td>2554</td>\n",
              "      <td>1709.05</td>\n",
              "      <td>1.0</td>\n",
              "      <td>DEEP PURPLE  Who Do You Think We Are  LP</td>\n",
              "      <td>2554</td>\n",
              "      <td>58</td>\n",
              "      <td>Музыка - Винил</td>\n",
              "      <td>58</td>\n",
              "      <td>Москва ТРК \"Атриум\"</td>\n",
              "      <td>25</td>\n",
              "      <td>1</td>\n",
              "      <td>1</td>\n",
              "      <td>2013</td>\n",
              "      <td>6</td>\n",
              "      <td>1709.05</td>\n",
              "    </tr>\n",
              "    <tr>\n",
              "      <th>4</th>\n",
              "      <td>2013-01-15</td>\n",
              "      <td>0</td>\n",
              "      <td>25</td>\n",
              "      <td>2555</td>\n",
              "      <td>1099.00</td>\n",
              "      <td>1.0</td>\n",
              "      <td>DEEP PURPLE 30 Very Best Of 2CD (Фирм.)</td>\n",
              "      <td>2555</td>\n",
              "      <td>56</td>\n",
              "      <td>Музыка - CD фирменного производства</td>\n",
              "      <td>56</td>\n",
              "      <td>Москва ТРК \"Атриум\"</td>\n",
              "      <td>25</td>\n",
              "      <td>3</td>\n",
              "      <td>1</td>\n",
              "      <td>2013</td>\n",
              "      <td>1</td>\n",
              "      <td>1099.00</td>\n",
              "    </tr>\n",
              "    <tr>\n",
              "      <th>...</th>\n",
              "      <td>...</td>\n",
              "      <td>...</td>\n",
              "      <td>...</td>\n",
              "      <td>...</td>\n",
              "      <td>...</td>\n",
              "      <td>...</td>\n",
              "      <td>...</td>\n",
              "      <td>...</td>\n",
              "      <td>...</td>\n",
              "      <td>...</td>\n",
              "      <td>...</td>\n",
              "      <td>...</td>\n",
              "      <td>...</td>\n",
              "      <td>...</td>\n",
              "      <td>...</td>\n",
              "      <td>...</td>\n",
              "      <td>...</td>\n",
              "      <td>...</td>\n",
              "    </tr>\n",
              "    <tr>\n",
              "      <th>2935844</th>\n",
              "      <td>2015-10-10</td>\n",
              "      <td>33</td>\n",
              "      <td>25</td>\n",
              "      <td>7409</td>\n",
              "      <td>299.00</td>\n",
              "      <td>1.0</td>\n",
              "      <td>V/A Nu Jazz Selection (digipack)</td>\n",
              "      <td>7409</td>\n",
              "      <td>55</td>\n",
              "      <td>Музыка - CD локального производства</td>\n",
              "      <td>55</td>\n",
              "      <td>Москва ТРК \"Атриум\"</td>\n",
              "      <td>25</td>\n",
              "      <td>41</td>\n",
              "      <td>10</td>\n",
              "      <td>2015</td>\n",
              "      <td>5</td>\n",
              "      <td>299.00</td>\n",
              "    </tr>\n",
              "    <tr>\n",
              "      <th>2935845</th>\n",
              "      <td>2015-10-09</td>\n",
              "      <td>33</td>\n",
              "      <td>25</td>\n",
              "      <td>7460</td>\n",
              "      <td>299.00</td>\n",
              "      <td>1.0</td>\n",
              "      <td>V/A The Golden Jazz Collection  1  2CD</td>\n",
              "      <td>7460</td>\n",
              "      <td>55</td>\n",
              "      <td>Музыка - CD локального производства</td>\n",
              "      <td>55</td>\n",
              "      <td>Москва ТРК \"Атриум\"</td>\n",
              "      <td>25</td>\n",
              "      <td>41</td>\n",
              "      <td>10</td>\n",
              "      <td>2015</td>\n",
              "      <td>4</td>\n",
              "      <td>299.00</td>\n",
              "    </tr>\n",
              "    <tr>\n",
              "      <th>2935846</th>\n",
              "      <td>2015-10-14</td>\n",
              "      <td>33</td>\n",
              "      <td>25</td>\n",
              "      <td>7459</td>\n",
              "      <td>349.00</td>\n",
              "      <td>1.0</td>\n",
              "      <td>V/A The Best Of The 3 Tenors</td>\n",
              "      <td>7459</td>\n",
              "      <td>55</td>\n",
              "      <td>Музыка - CD локального производства</td>\n",
              "      <td>55</td>\n",
              "      <td>Москва ТРК \"Атриум\"</td>\n",
              "      <td>25</td>\n",
              "      <td>42</td>\n",
              "      <td>10</td>\n",
              "      <td>2015</td>\n",
              "      <td>2</td>\n",
              "      <td>349.00</td>\n",
              "    </tr>\n",
              "    <tr>\n",
              "      <th>2935847</th>\n",
              "      <td>2015-10-22</td>\n",
              "      <td>33</td>\n",
              "      <td>25</td>\n",
              "      <td>7440</td>\n",
              "      <td>299.00</td>\n",
              "      <td>1.0</td>\n",
              "      <td>V/A Relax Collection  Planet MP3 (mp3-CD) (jewel)</td>\n",
              "      <td>7440</td>\n",
              "      <td>57</td>\n",
              "      <td>Музыка - MP3</td>\n",
              "      <td>57</td>\n",
              "      <td>Москва ТРК \"Атриум\"</td>\n",
              "      <td>25</td>\n",
              "      <td>43</td>\n",
              "      <td>10</td>\n",
              "      <td>2015</td>\n",
              "      <td>3</td>\n",
              "      <td>299.00</td>\n",
              "    </tr>\n",
              "    <tr>\n",
              "      <th>2935848</th>\n",
              "      <td>2015-10-03</td>\n",
              "      <td>33</td>\n",
              "      <td>25</td>\n",
              "      <td>7460</td>\n",
              "      <td>299.00</td>\n",
              "      <td>1.0</td>\n",
              "      <td>V/A The Golden Jazz Collection  1  2CD</td>\n",
              "      <td>7460</td>\n",
              "      <td>55</td>\n",
              "      <td>Музыка - CD локального производства</td>\n",
              "      <td>55</td>\n",
              "      <td>Москва ТРК \"Атриум\"</td>\n",
              "      <td>25</td>\n",
              "      <td>40</td>\n",
              "      <td>10</td>\n",
              "      <td>2015</td>\n",
              "      <td>5</td>\n",
              "      <td>299.00</td>\n",
              "    </tr>\n",
              "  </tbody>\n",
              "</table>\n",
              "<p>2935849 rows × 18 columns</p>\n",
              "</div>"
            ],
            "text/plain": [
              "              date  date_block_num  shop_id  item_id  ...  fm    fy wd    sales\n",
              "0       2013-01-02               0       59    22154  ...   1  2013  2   999.00\n",
              "1       2013-01-03               0       25     2552  ...   1  2013  3   899.00\n",
              "2       2013-01-05               0       25     2552  ...   1  2013  5  -899.00\n",
              "3       2013-01-06               0       25     2554  ...   1  2013  6  1709.05\n",
              "4       2013-01-15               0       25     2555  ...   1  2013  1  1099.00\n",
              "...            ...             ...      ...      ...  ...  ..   ... ..      ...\n",
              "2935844 2015-10-10              33       25     7409  ...  10  2015  5   299.00\n",
              "2935845 2015-10-09              33       25     7460  ...  10  2015  4   299.00\n",
              "2935846 2015-10-14              33       25     7459  ...  10  2015  2   349.00\n",
              "2935847 2015-10-22              33       25     7440  ...  10  2015  3   299.00\n",
              "2935848 2015-10-03              33       25     7460  ...  10  2015  5   299.00\n",
              "\n",
              "[2935849 rows x 18 columns]"
            ]
          },
          "metadata": {
            "tags": []
          },
          "execution_count": 10
        }
      ]
    },
    {
      "cell_type": "code",
      "metadata": {
        "id": "Jb44jGW3mK4c",
        "outputId": "6542bcb4-3d90-41f4-cdf6-ac4fa5b00e22",
        "colab": {
          "base_uri": "https://localhost:8080/",
          "height": 363
        }
      },
      "source": [
        "sales_df.isnull().sum()"
      ],
      "execution_count": null,
      "outputs": [
        {
          "output_type": "execute_result",
          "data": {
            "text/plain": [
              "date                  0\n",
              "date_block_num        0\n",
              "shop_id               0\n",
              "item_id               0\n",
              "item_price            0\n",
              "item_cnt_day          0\n",
              "item_name             0\n",
              "item_idr              0\n",
              "item_category_id      0\n",
              "item_category_name    0\n",
              "item_category_idr     0\n",
              "shop_name             0\n",
              "shop_idr              0\n",
              "fw                    0\n",
              "fm                    0\n",
              "fy                    0\n",
              "wd                    0\n",
              "sales                 0\n",
              "dtype: int64"
            ]
          },
          "metadata": {
            "tags": []
          },
          "execution_count": 11
        }
      ]
    },
    {
      "cell_type": "code",
      "metadata": {
        "id": "cqK3PO7Ymu9c",
        "outputId": "d738c9e4-71fb-4302-cd39-740c7eef9329",
        "colab": {
          "base_uri": "https://localhost:8080/",
          "height": 308
        }
      },
      "source": [
        "sales_df.describe()"
      ],
      "execution_count": null,
      "outputs": [
        {
          "output_type": "execute_result",
          "data": {
            "text/html": [
              "<div>\n",
              "<style scoped>\n",
              "    .dataframe tbody tr th:only-of-type {\n",
              "        vertical-align: middle;\n",
              "    }\n",
              "\n",
              "    .dataframe tbody tr th {\n",
              "        vertical-align: top;\n",
              "    }\n",
              "\n",
              "    .dataframe thead th {\n",
              "        text-align: right;\n",
              "    }\n",
              "</style>\n",
              "<table border=\"1\" class=\"dataframe\">\n",
              "  <thead>\n",
              "    <tr style=\"text-align: right;\">\n",
              "      <th></th>\n",
              "      <th>date_block_num</th>\n",
              "      <th>shop_id</th>\n",
              "      <th>item_id</th>\n",
              "      <th>item_price</th>\n",
              "      <th>item_cnt_day</th>\n",
              "      <th>item_idr</th>\n",
              "      <th>item_category_id</th>\n",
              "      <th>item_category_idr</th>\n",
              "      <th>shop_idr</th>\n",
              "      <th>fw</th>\n",
              "      <th>fm</th>\n",
              "      <th>fy</th>\n",
              "      <th>wd</th>\n",
              "      <th>sales</th>\n",
              "    </tr>\n",
              "  </thead>\n",
              "  <tbody>\n",
              "    <tr>\n",
              "      <th>count</th>\n",
              "      <td>2.935849e+06</td>\n",
              "      <td>2.935849e+06</td>\n",
              "      <td>2.935849e+06</td>\n",
              "      <td>2.935849e+06</td>\n",
              "      <td>2.935849e+06</td>\n",
              "      <td>2.935849e+06</td>\n",
              "      <td>2.935849e+06</td>\n",
              "      <td>2.935849e+06</td>\n",
              "      <td>2.935849e+06</td>\n",
              "      <td>2.935849e+06</td>\n",
              "      <td>2.935849e+06</td>\n",
              "      <td>2.935849e+06</td>\n",
              "      <td>2.935849e+06</td>\n",
              "      <td>2.935849e+06</td>\n",
              "    </tr>\n",
              "    <tr>\n",
              "      <th>mean</th>\n",
              "      <td>1.456991e+01</td>\n",
              "      <td>3.300173e+01</td>\n",
              "      <td>1.019723e+04</td>\n",
              "      <td>8.908532e+02</td>\n",
              "      <td>1.242641e+00</td>\n",
              "      <td>1.019723e+04</td>\n",
              "      <td>4.000138e+01</td>\n",
              "      <td>4.000138e+01</td>\n",
              "      <td>3.300173e+01</td>\n",
              "      <td>2.485817e+01</td>\n",
              "      <td>6.247717e+00</td>\n",
              "      <td>2.013777e+03</td>\n",
              "      <td>3.365686e+00</td>\n",
              "      <td>1.157732e+03</td>\n",
              "    </tr>\n",
              "    <tr>\n",
              "      <th>std</th>\n",
              "      <td>9.422988e+00</td>\n",
              "      <td>1.622697e+01</td>\n",
              "      <td>6.324297e+03</td>\n",
              "      <td>1.729800e+03</td>\n",
              "      <td>2.618834e+00</td>\n",
              "      <td>6.324297e+03</td>\n",
              "      <td>1.710076e+01</td>\n",
              "      <td>1.710076e+01</td>\n",
              "      <td>1.622697e+01</td>\n",
              "      <td>1.543837e+01</td>\n",
              "      <td>3.536219e+00</td>\n",
              "      <td>7.684790e-01</td>\n",
              "      <td>1.996795e+00</td>\n",
              "      <td>5.683604e+03</td>\n",
              "    </tr>\n",
              "    <tr>\n",
              "      <th>min</th>\n",
              "      <td>0.000000e+00</td>\n",
              "      <td>0.000000e+00</td>\n",
              "      <td>0.000000e+00</td>\n",
              "      <td>-1.000000e+00</td>\n",
              "      <td>-2.200000e+01</td>\n",
              "      <td>0.000000e+00</td>\n",
              "      <td>0.000000e+00</td>\n",
              "      <td>0.000000e+00</td>\n",
              "      <td>0.000000e+00</td>\n",
              "      <td>1.000000e+00</td>\n",
              "      <td>1.000000e+00</td>\n",
              "      <td>2.013000e+03</td>\n",
              "      <td>0.000000e+00</td>\n",
              "      <td>-6.897000e+04</td>\n",
              "    </tr>\n",
              "    <tr>\n",
              "      <th>25%</th>\n",
              "      <td>7.000000e+00</td>\n",
              "      <td>2.200000e+01</td>\n",
              "      <td>4.476000e+03</td>\n",
              "      <td>2.490000e+02</td>\n",
              "      <td>1.000000e+00</td>\n",
              "      <td>4.476000e+03</td>\n",
              "      <td>2.800000e+01</td>\n",
              "      <td>2.800000e+01</td>\n",
              "      <td>2.200000e+01</td>\n",
              "      <td>1.100000e+01</td>\n",
              "      <td>3.000000e+00</td>\n",
              "      <td>2.013000e+03</td>\n",
              "      <td>2.000000e+00</td>\n",
              "      <td>2.490000e+02</td>\n",
              "    </tr>\n",
              "    <tr>\n",
              "      <th>50%</th>\n",
              "      <td>1.400000e+01</td>\n",
              "      <td>3.100000e+01</td>\n",
              "      <td>9.343000e+03</td>\n",
              "      <td>3.990000e+02</td>\n",
              "      <td>1.000000e+00</td>\n",
              "      <td>9.343000e+03</td>\n",
              "      <td>4.000000e+01</td>\n",
              "      <td>4.000000e+01</td>\n",
              "      <td>3.100000e+01</td>\n",
              "      <td>2.400000e+01</td>\n",
              "      <td>6.000000e+00</td>\n",
              "      <td>2.014000e+03</td>\n",
              "      <td>4.000000e+00</td>\n",
              "      <td>4.490000e+02</td>\n",
              "    </tr>\n",
              "    <tr>\n",
              "      <th>75%</th>\n",
              "      <td>2.300000e+01</td>\n",
              "      <td>4.700000e+01</td>\n",
              "      <td>1.568400e+04</td>\n",
              "      <td>9.990000e+02</td>\n",
              "      <td>1.000000e+00</td>\n",
              "      <td>1.568400e+04</td>\n",
              "      <td>5.500000e+01</td>\n",
              "      <td>5.500000e+01</td>\n",
              "      <td>4.700000e+01</td>\n",
              "      <td>3.800000e+01</td>\n",
              "      <td>9.000000e+00</td>\n",
              "      <td>2.014000e+03</td>\n",
              "      <td>5.000000e+00</td>\n",
              "      <td>1.078200e+03</td>\n",
              "    </tr>\n",
              "    <tr>\n",
              "      <th>max</th>\n",
              "      <td>3.300000e+01</td>\n",
              "      <td>5.900000e+01</td>\n",
              "      <td>2.216900e+04</td>\n",
              "      <td>3.079800e+05</td>\n",
              "      <td>2.169000e+03</td>\n",
              "      <td>2.216900e+04</td>\n",
              "      <td>8.300000e+01</td>\n",
              "      <td>8.300000e+01</td>\n",
              "      <td>5.900000e+01</td>\n",
              "      <td>5.200000e+01</td>\n",
              "      <td>1.200000e+01</td>\n",
              "      <td>2.015000e+03</td>\n",
              "      <td>6.000000e+00</td>\n",
              "      <td>1.829990e+06</td>\n",
              "    </tr>\n",
              "  </tbody>\n",
              "</table>\n",
              "</div>"
            ],
            "text/plain": [
              "       date_block_num       shop_id  ...            wd         sales\n",
              "count    2.935849e+06  2.935849e+06  ...  2.935849e+06  2.935849e+06\n",
              "mean     1.456991e+01  3.300173e+01  ...  3.365686e+00  1.157732e+03\n",
              "std      9.422988e+00  1.622697e+01  ...  1.996795e+00  5.683604e+03\n",
              "min      0.000000e+00  0.000000e+00  ...  0.000000e+00 -6.897000e+04\n",
              "25%      7.000000e+00  2.200000e+01  ...  2.000000e+00  2.490000e+02\n",
              "50%      1.400000e+01  3.100000e+01  ...  4.000000e+00  4.490000e+02\n",
              "75%      2.300000e+01  4.700000e+01  ...  5.000000e+00  1.078200e+03\n",
              "max      3.300000e+01  5.900000e+01  ...  6.000000e+00  1.829990e+06\n",
              "\n",
              "[8 rows x 14 columns]"
            ]
          },
          "metadata": {
            "tags": []
          },
          "execution_count": 12
        }
      ]
    },
    {
      "cell_type": "code",
      "metadata": {
        "id": "bSYhAdreq9TQ",
        "outputId": "e70524b5-2c2e-4e78-fa22-545e1d044d18",
        "colab": {
          "base_uri": "https://localhost:8080/",
          "height": 299
        }
      },
      "source": [
        "df2 = sales_df[['date_block_num', 'sales']].groupby('date_block_num').sum()\n",
        "plt.plot(df2.sales)\n",
        "plt.title(\"Unique items sold\")"
      ],
      "execution_count": null,
      "outputs": [
        {
          "output_type": "execute_result",
          "data": {
            "text/plain": [
              "Text(0.5, 1.0, 'Unique items sold')"
            ]
          },
          "metadata": {
            "tags": []
          },
          "execution_count": 13
        },
        {
          "output_type": "display_data",
          "data": {
            "image/png": "[encoded data removed]",
            "text/plain": [
              "<Figure size 432x288 with 1 Axes>"
            ]
          },
          "metadata": {
            "tags": [],
            "needs_background": "light"
          }
        }
      ]
    },
    {
      "cell_type": "code",
      "metadata": {
        "id": "ObeGBr45U4xw"
      },
      "source": [
        "sales_df_2013 = sales_df[sales_df.fy.eq(2013)]\n",
        "sales_df_2014 = sales_df[sales_df.fy.eq(2014)]\n",
        "sales_df_2015 = sales_df[sales_df.fy.eq(2015)]"
      ],
      "execution_count": null,
      "outputs": []
    },
    {
      "cell_type": "code",
      "metadata": {
        "id": "6VSCwBMobUah",
        "outputId": "684f0994-d142-436b-db90-16df85d10504",
        "colab": {
          "base_uri": "https://localhost:8080/",
          "height": 1000
        }
      },
      "source": [
        "sales_df_2013"
      ],
      "execution_count": null,
      "outputs": [
        {
          "output_type": "execute_result",
          "data": {
            "text/html": [
              "<div>\n",
              "<style scoped>\n",
              "    .dataframe tbody tr th:only-of-type {\n",
              "        vertical-align: middle;\n",
              "    }\n",
              "\n",
              "    .dataframe tbody tr th {\n",
              "        vertical-align: top;\n",
              "    }\n",
              "\n",
              "    .dataframe thead th {\n",
              "        text-align: right;\n",
              "    }\n",
              "</style>\n",
              "<table border=\"1\" class=\"dataframe\">\n",
              "  <thead>\n",
              "    <tr style=\"text-align: right;\">\n",
              "      <th></th>\n",
              "      <th>date</th>\n",
              "      <th>date_block_num</th>\n",
              "      <th>shop_id</th>\n",
              "      <th>item_id</th>\n",
              "      <th>item_price</th>\n",
              "      <th>item_cnt_day</th>\n",
              "      <th>item_name</th>\n",
              "      <th>item_idr</th>\n",
              "      <th>item_category_id</th>\n",
              "      <th>item_category_name</th>\n",
              "      <th>item_category_idr</th>\n",
              "      <th>shop_name</th>\n",
              "      <th>shop_idr</th>\n",
              "      <th>fw</th>\n",
              "      <th>fm</th>\n",
              "      <th>fy</th>\n",
              "      <th>wd</th>\n",
              "      <th>sales</th>\n",
              "    </tr>\n",
              "  </thead>\n",
              "  <tbody>\n",
              "    <tr>\n",
              "      <th>0</th>\n",
              "      <td>2013-01-02</td>\n",
              "      <td>0</td>\n",
              "      <td>59</td>\n",
              "      <td>22154</td>\n",
              "      <td>999.00</td>\n",
              "      <td>1.0</td>\n",
              "      <td>ЯВЛЕНИЕ 2012 (BD)</td>\n",
              "      <td>22154</td>\n",
              "      <td>37</td>\n",
              "      <td>Кино - Blu-Ray</td>\n",
              "      <td>37</td>\n",
              "      <td>Ярославль ТЦ \"Альтаир\"</td>\n",
              "      <td>59</td>\n",
              "      <td>1</td>\n",
              "      <td>1</td>\n",
              "      <td>2013</td>\n",
              "      <td>2</td>\n",
              "      <td>999.00</td>\n",
              "    </tr>\n",
              "    <tr>\n",
              "      <th>1</th>\n",
              "      <td>2013-01-03</td>\n",
              "      <td>0</td>\n",
              "      <td>25</td>\n",
              "      <td>2552</td>\n",
              "      <td>899.00</td>\n",
              "      <td>1.0</td>\n",
              "      <td>DEEP PURPLE  The House Of Blue Light  LP</td>\n",
              "      <td>2552</td>\n",
              "      <td>58</td>\n",
              "      <td>Музыка - Винил</td>\n",
              "      <td>58</td>\n",
              "      <td>Москва ТРК \"Атриум\"</td>\n",
              "      <td>25</td>\n",
              "      <td>1</td>\n",
              "      <td>1</td>\n",
              "      <td>2013</td>\n",
              "      <td>3</td>\n",
              "      <td>899.00</td>\n",
              "    </tr>\n",
              "    <tr>\n",
              "      <th>2</th>\n",
              "      <td>2013-01-05</td>\n",
              "      <td>0</td>\n",
              "      <td>25</td>\n",
              "      <td>2552</td>\n",
              "      <td>899.00</td>\n",
              "      <td>-1.0</td>\n",
              "      <td>DEEP PURPLE  The House Of Blue Light  LP</td>\n",
              "      <td>2552</td>\n",
              "      <td>58</td>\n",
              "      <td>Музыка - Винил</td>\n",
              "      <td>58</td>\n",
              "      <td>Москва ТРК \"Атриум\"</td>\n",
              "      <td>25</td>\n",
              "      <td>1</td>\n",
              "      <td>1</td>\n",
              "      <td>2013</td>\n",
              "      <td>5</td>\n",
              "      <td>-899.00</td>\n",
              "    </tr>\n",
              "    <tr>\n",
              "      <th>3</th>\n",
              "      <td>2013-01-06</td>\n",
              "      <td>0</td>\n",
              "      <td>25</td>\n",
              "      <td>2554</td>\n",
              "      <td>1709.05</td>\n",
              "      <td>1.0</td>\n",
              "      <td>DEEP PURPLE  Who Do You Think We Are  LP</td>\n",
              "      <td>2554</td>\n",
              "      <td>58</td>\n",
              "      <td>Музыка - Винил</td>\n",
              "      <td>58</td>\n",
              "      <td>Москва ТРК \"Атриум\"</td>\n",
              "      <td>25</td>\n",
              "      <td>1</td>\n",
              "      <td>1</td>\n",
              "      <td>2013</td>\n",
              "      <td>6</td>\n",
              "      <td>1709.05</td>\n",
              "    </tr>\n",
              "    <tr>\n",
              "      <th>4</th>\n",
              "      <td>2013-01-15</td>\n",
              "      <td>0</td>\n",
              "      <td>25</td>\n",
              "      <td>2555</td>\n",
              "      <td>1099.00</td>\n",
              "      <td>1.0</td>\n",
              "      <td>DEEP PURPLE 30 Very Best Of 2CD (Фирм.)</td>\n",
              "      <td>2555</td>\n",
              "      <td>56</td>\n",
              "      <td>Музыка - CD фирменного производства</td>\n",
              "      <td>56</td>\n",
              "      <td>Москва ТРК \"Атриум\"</td>\n",
              "      <td>25</td>\n",
              "      <td>3</td>\n",
              "      <td>1</td>\n",
              "      <td>2013</td>\n",
              "      <td>1</td>\n",
              "      <td>1099.00</td>\n",
              "    </tr>\n",
              "    <tr>\n",
              "      <th>...</th>\n",
              "      <td>...</td>\n",
              "      <td>...</td>\n",
              "      <td>...</td>\n",
              "      <td>...</td>\n",
              "      <td>...</td>\n",
              "      <td>...</td>\n",
              "      <td>...</td>\n",
              "      <td>...</td>\n",
              "      <td>...</td>\n",
              "      <td>...</td>\n",
              "      <td>...</td>\n",
              "      <td>...</td>\n",
              "      <td>...</td>\n",
              "      <td>...</td>\n",
              "      <td>...</td>\n",
              "      <td>...</td>\n",
              "      <td>...</td>\n",
              "      <td>...</td>\n",
              "    </tr>\n",
              "    <tr>\n",
              "      <th>1267557</th>\n",
              "      <td>2013-12-06</td>\n",
              "      <td>11</td>\n",
              "      <td>46</td>\n",
              "      <td>5671</td>\n",
              "      <td>2690.00</td>\n",
              "      <td>1.0</td>\n",
              "      <td>PS4: Контроллер игровой беспроводной синий (Du...</td>\n",
              "      <td>5671</td>\n",
              "      <td>3</td>\n",
              "      <td>Аксессуары - PS4</td>\n",
              "      <td>3</td>\n",
              "      <td>Сергиев Посад ТЦ \"7Я\"</td>\n",
              "      <td>46</td>\n",
              "      <td>49</td>\n",
              "      <td>12</td>\n",
              "      <td>2013</td>\n",
              "      <td>4</td>\n",
              "      <td>2690.00</td>\n",
              "    </tr>\n",
              "    <tr>\n",
              "      <th>1267558</th>\n",
              "      <td>2013-12-01</td>\n",
              "      <td>11</td>\n",
              "      <td>46</td>\n",
              "      <td>5671</td>\n",
              "      <td>2590.00</td>\n",
              "      <td>3.0</td>\n",
              "      <td>PS4: Контроллер игровой беспроводной синий (Du...</td>\n",
              "      <td>5671</td>\n",
              "      <td>3</td>\n",
              "      <td>Аксессуары - PS4</td>\n",
              "      <td>3</td>\n",
              "      <td>Сергиев Посад ТЦ \"7Я\"</td>\n",
              "      <td>46</td>\n",
              "      <td>48</td>\n",
              "      <td>12</td>\n",
              "      <td>2013</td>\n",
              "      <td>6</td>\n",
              "      <td>7770.00</td>\n",
              "    </tr>\n",
              "    <tr>\n",
              "      <th>1267559</th>\n",
              "      <td>2013-12-26</td>\n",
              "      <td>11</td>\n",
              "      <td>46</td>\n",
              "      <td>5669</td>\n",
              "      <td>2690.00</td>\n",
              "      <td>2.0</td>\n",
              "      <td>PS4: Контроллер игровой беспроводной красный (...</td>\n",
              "      <td>5669</td>\n",
              "      <td>3</td>\n",
              "      <td>Аксессуары - PS4</td>\n",
              "      <td>3</td>\n",
              "      <td>Сергиев Посад ТЦ \"7Я\"</td>\n",
              "      <td>46</td>\n",
              "      <td>52</td>\n",
              "      <td>12</td>\n",
              "      <td>2013</td>\n",
              "      <td>3</td>\n",
              "      <td>5380.00</td>\n",
              "    </tr>\n",
              "    <tr>\n",
              "      <th>1267560</th>\n",
              "      <td>2013-12-25</td>\n",
              "      <td>11</td>\n",
              "      <td>46</td>\n",
              "      <td>5669</td>\n",
              "      <td>2690.00</td>\n",
              "      <td>1.0</td>\n",
              "      <td>PS4: Контроллер игровой беспроводной красный (...</td>\n",
              "      <td>5669</td>\n",
              "      <td>3</td>\n",
              "      <td>Аксессуары - PS4</td>\n",
              "      <td>3</td>\n",
              "      <td>Сергиев Посад ТЦ \"7Я\"</td>\n",
              "      <td>46</td>\n",
              "      <td>52</td>\n",
              "      <td>12</td>\n",
              "      <td>2013</td>\n",
              "      <td>2</td>\n",
              "      <td>2690.00</td>\n",
              "    </tr>\n",
              "    <tr>\n",
              "      <th>1267561</th>\n",
              "      <td>2013-12-19</td>\n",
              "      <td>11</td>\n",
              "      <td>46</td>\n",
              "      <td>5671</td>\n",
              "      <td>2690.00</td>\n",
              "      <td>1.0</td>\n",
              "      <td>PS4: Контроллер игровой беспроводной синий (Du...</td>\n",
              "      <td>5671</td>\n",
              "      <td>3</td>\n",
              "      <td>Аксессуары - PS4</td>\n",
              "      <td>3</td>\n",
              "      <td>Сергиев Посад ТЦ \"7Я\"</td>\n",
              "      <td>46</td>\n",
              "      <td>51</td>\n",
              "      <td>12</td>\n",
              "      <td>2013</td>\n",
              "      <td>3</td>\n",
              "      <td>2690.00</td>\n",
              "    </tr>\n",
              "  </tbody>\n",
              "</table>\n",
              "<p>1267562 rows × 18 columns</p>\n",
              "</div>"
            ],
            "text/plain": [
              "              date  date_block_num  shop_id  item_id  ...  fm    fy wd    sales\n",
              "0       2013-01-02               0       59    22154  ...   1  2013  2   999.00\n",
              "1       2013-01-03               0       25     2552  ...   1  2013  3   899.00\n",
              "2       2013-01-05               0       25     2552  ...   1  2013  5  -899.00\n",
              "3       2013-01-06               0       25     2554  ...   1  2013  6  1709.05\n",
              "4       2013-01-15               0       25     2555  ...   1  2013  1  1099.00\n",
              "...            ...             ...      ...      ...  ...  ..   ... ..      ...\n",
              "1267557 2013-12-06              11       46     5671  ...  12  2013  4  2690.00\n",
              "1267558 2013-12-01              11       46     5671  ...  12  2013  6  7770.00\n",
              "1267559 2013-12-26              11       46     5669  ...  12  2013  3  5380.00\n",
              "1267560 2013-12-25              11       46     5669  ...  12  2013  2  2690.00\n",
              "1267561 2013-12-19              11       46     5671  ...  12  2013  3  2690.00\n",
              "\n",
              "[1267562 rows x 18 columns]"
            ]
          },
          "metadata": {
            "tags": []
          },
          "execution_count": 15
        }
      ]
    },
    {
      "cell_type": "code",
      "metadata": {
        "id": "ltvsVB3bgtyg",
        "outputId": "6b51cb52-c181-4657-cd6b-235e8ed5c09d",
        "colab": {
          "base_uri": "https://localhost:8080/",
          "height": 90
        }
      },
      "source": [
        "print(sales_df[['item_cnt_day','sales','item_price']].corr())"
      ],
      "execution_count": null,
      "outputs": [
        {
          "output_type": "stream",
          "text": [
            "              item_cnt_day     sales  item_price\n",
            "item_cnt_day      1.000000  0.407954    0.011197\n",
            "sales             0.407954  1.000000    0.433725\n",
            "item_price        0.011197  0.433725    1.000000\n"
          ],
          "name": "stdout"
        }
      ]
    },
    {
      "cell_type": "code",
      "metadata": {
        "id": "y6Oh3r9JhpV-",
        "outputId": "3f6d334f-a6b2-4c12-9aa8-5f07bc592a53",
        "colab": {
          "base_uri": "https://localhost:8080/",
          "height": 308
        }
      },
      "source": [
        "sales_df.describe()"
      ],
      "execution_count": null,
      "outputs": [
        {
          "output_type": "execute_result",
          "data": {
            "text/html": [
              "<div>\n",
              "<style scoped>\n",
              "    .dataframe tbody tr th:only-of-type {\n",
              "        vertical-align: middle;\n",
              "    }\n",
              "\n",
              "    .dataframe tbody tr th {\n",
              "        vertical-align: top;\n",
              "    }\n",
              "\n",
              "    .dataframe thead th {\n",
              "        text-align: right;\n",
              "    }\n",
              "</style>\n",
              "<table border=\"1\" class=\"dataframe\">\n",
              "  <thead>\n",
              "    <tr style=\"text-align: right;\">\n",
              "      <th></th>\n",
              "      <th>date_block_num</th>\n",
              "      <th>shop_id</th>\n",
              "      <th>item_id</th>\n",
              "      <th>item_price</th>\n",
              "      <th>item_cnt_day</th>\n",
              "      <th>item_idr</th>\n",
              "      <th>item_category_id</th>\n",
              "      <th>item_category_idr</th>\n",
              "      <th>shop_idr</th>\n",
              "      <th>fw</th>\n",
              "      <th>fm</th>\n",
              "      <th>fy</th>\n",
              "      <th>wd</th>\n",
              "      <th>sales</th>\n",
              "    </tr>\n",
              "  </thead>\n",
              "  <tbody>\n",
              "    <tr>\n",
              "      <th>count</th>\n",
              "      <td>2.935849e+06</td>\n",
              "      <td>2.935849e+06</td>\n",
              "      <td>2.935849e+06</td>\n",
              "      <td>2.935849e+06</td>\n",
              "      <td>2.935849e+06</td>\n",
              "      <td>2.935849e+06</td>\n",
              "      <td>2.935849e+06</td>\n",
              "      <td>2.935849e+06</td>\n",
              "      <td>2.935849e+06</td>\n",
              "      <td>2.935849e+06</td>\n",
              "      <td>2.935849e+06</td>\n",
              "      <td>2.935849e+06</td>\n",
              "      <td>2.935849e+06</td>\n",
              "      <td>2.935849e+06</td>\n",
              "    </tr>\n",
              "    <tr>\n",
              "      <th>mean</th>\n",
              "      <td>1.456991e+01</td>\n",
              "      <td>3.300173e+01</td>\n",
              "      <td>1.019723e+04</td>\n",
              "      <td>8.908532e+02</td>\n",
              "      <td>1.242641e+00</td>\n",
              "      <td>1.019723e+04</td>\n",
              "      <td>4.000138e+01</td>\n",
              "      <td>4.000138e+01</td>\n",
              "      <td>3.300173e+01</td>\n",
              "      <td>2.485817e+01</td>\n",
              "      <td>6.247717e+00</td>\n",
              "      <td>2.013777e+03</td>\n",
              "      <td>3.365686e+00</td>\n",
              "      <td>1.157732e+03</td>\n",
              "    </tr>\n",
              "    <tr>\n",
              "      <th>std</th>\n",
              "      <td>9.422988e+00</td>\n",
              "      <td>1.622697e+01</td>\n",
              "      <td>6.324297e+03</td>\n",
              "      <td>1.729800e+03</td>\n",
              "      <td>2.618834e+00</td>\n",
              "      <td>6.324297e+03</td>\n",
              "      <td>1.710076e+01</td>\n",
              "      <td>1.710076e+01</td>\n",
              "      <td>1.622697e+01</td>\n",
              "      <td>1.543837e+01</td>\n",
              "      <td>3.536219e+00</td>\n",
              "      <td>7.684790e-01</td>\n",
              "      <td>1.996795e+00</td>\n",
              "      <td>5.683604e+03</td>\n",
              "    </tr>\n",
              "    <tr>\n",
              "      <th>min</th>\n",
              "      <td>0.000000e+00</td>\n",
              "      <td>0.000000e+00</td>\n",
              "      <td>0.000000e+00</td>\n",
              "      <td>-1.000000e+00</td>\n",
              "      <td>-2.200000e+01</td>\n",
              "      <td>0.000000e+00</td>\n",
              "      <td>0.000000e+00</td>\n",
              "      <td>0.000000e+00</td>\n",
              "      <td>0.000000e+00</td>\n",
              "      <td>1.000000e+00</td>\n",
              "      <td>1.000000e+00</td>\n",
              "      <td>2.013000e+03</td>\n",
              "      <td>0.000000e+00</td>\n",
              "      <td>-6.897000e+04</td>\n",
              "    </tr>\n",
              "    <tr>\n",
              "      <th>25%</th>\n",
              "      <td>7.000000e+00</td>\n",
              "      <td>2.200000e+01</td>\n",
              "      <td>4.476000e+03</td>\n",
              "      <td>2.490000e+02</td>\n",
              "      <td>1.000000e+00</td>\n",
              "      <td>4.476000e+03</td>\n",
              "      <td>2.800000e+01</td>\n",
              "      <td>2.800000e+01</td>\n",
              "      <td>2.200000e+01</td>\n",
              "      <td>1.100000e+01</td>\n",
              "      <td>3.000000e+00</td>\n",
              "      <td>2.013000e+03</td>\n",
              "      <td>2.000000e+00</td>\n",
              "      <td>2.490000e+02</td>\n",
              "    </tr>\n",
              "    <tr>\n",
              "      <th>50%</th>\n",
              "      <td>1.400000e+01</td>\n",
              "      <td>3.100000e+01</td>\n",
              "      <td>9.343000e+03</td>\n",
              "      <td>3.990000e+02</td>\n",
              "      <td>1.000000e+00</td>\n",
              "      <td>9.343000e+03</td>\n",
              "      <td>4.000000e+01</td>\n",
              "      <td>4.000000e+01</td>\n",
              "      <td>3.100000e+01</td>\n",
              "      <td>2.400000e+01</td>\n",
              "      <td>6.000000e+00</td>\n",
              "      <td>2.014000e+03</td>\n",
              "      <td>4.000000e+00</td>\n",
              "      <td>4.490000e+02</td>\n",
              "    </tr>\n",
              "    <tr>\n",
              "      <th>75%</th>\n",
              "      <td>2.300000e+01</td>\n",
              "      <td>4.700000e+01</td>\n",
              "      <td>1.568400e+04</td>\n",
              "      <td>9.990000e+02</td>\n",
              "      <td>1.000000e+00</td>\n",
              "      <td>1.568400e+04</td>\n",
              "      <td>5.500000e+01</td>\n",
              "      <td>5.500000e+01</td>\n",
              "      <td>4.700000e+01</td>\n",
              "      <td>3.800000e+01</td>\n",
              "      <td>9.000000e+00</td>\n",
              "      <td>2.014000e+03</td>\n",
              "      <td>5.000000e+00</td>\n",
              "      <td>1.078200e+03</td>\n",
              "    </tr>\n",
              "    <tr>\n",
              "      <th>max</th>\n",
              "      <td>3.300000e+01</td>\n",
              "      <td>5.900000e+01</td>\n",
              "      <td>2.216900e+04</td>\n",
              "      <td>3.079800e+05</td>\n",
              "      <td>2.169000e+03</td>\n",
              "      <td>2.216900e+04</td>\n",
              "      <td>8.300000e+01</td>\n",
              "      <td>8.300000e+01</td>\n",
              "      <td>5.900000e+01</td>\n",
              "      <td>5.200000e+01</td>\n",
              "      <td>1.200000e+01</td>\n",
              "      <td>2.015000e+03</td>\n",
              "      <td>6.000000e+00</td>\n",
              "      <td>1.829990e+06</td>\n",
              "    </tr>\n",
              "  </tbody>\n",
              "</table>\n",
              "</div>"
            ],
            "text/plain": [
              "       date_block_num       shop_id  ...            wd         sales\n",
              "count    2.935849e+06  2.935849e+06  ...  2.935849e+06  2.935849e+06\n",
              "mean     1.456991e+01  3.300173e+01  ...  3.365686e+00  1.157732e+03\n",
              "std      9.422988e+00  1.622697e+01  ...  1.996795e+00  5.683604e+03\n",
              "min      0.000000e+00  0.000000e+00  ...  0.000000e+00 -6.897000e+04\n",
              "25%      7.000000e+00  2.200000e+01  ...  2.000000e+00  2.490000e+02\n",
              "50%      1.400000e+01  3.100000e+01  ...  4.000000e+00  4.490000e+02\n",
              "75%      2.300000e+01  4.700000e+01  ...  5.000000e+00  1.078200e+03\n",
              "max      3.300000e+01  5.900000e+01  ...  6.000000e+00  1.829990e+06\n",
              "\n",
              "[8 rows x 14 columns]"
            ]
          },
          "metadata": {
            "tags": []
          },
          "execution_count": 17
        }
      ]
    },
    {
      "cell_type": "code",
      "metadata": {
        "id": "stl-OQVv9aIW",
        "outputId": "670f6a41-15bd-49f9-8cda-e368aca00862",
        "colab": {
          "base_uri": "https://localhost:8080/",
          "height": 299
        }
      },
      "source": [
        "\n",
        "df1 = sales_df_2013[['fw', 'sales']].groupby('fw').sum()\n",
        "df2 = sales_df_2014[['fw', 'sales']].groupby('fw').sum()\n",
        "df3 = sales_df_2015[['fw', 'sales']].groupby('fw').sum()\n",
        "fig, ax = plt.subplots()\n",
        "plt.plot(df1.sales,color='blue')\n",
        "plt.plot(df2.sales,color='green')\n",
        "plt.plot(df3.sales,color='red')\n",
        "plt.title(\"Unique items sold\")"
      ],
      "execution_count": null,
      "outputs": [
        {
          "output_type": "execute_result",
          "data": {
            "text/plain": [
              "Text(0.5, 1.0, 'Unique items sold')"
            ]
          },
          "metadata": {
            "tags": []
          },
          "execution_count": 18
        },
        {
          "output_type": "display_data",
          "data": {
            "image/png": "[encoded data removed]",
            "text/plain": [
              "<Figure size 432x288 with 1 Axes>"
            ]
          },
          "metadata": {
            "tags": [],
            "needs_background": "light"
          }
        }
      ]
    },
    {
      "cell_type": "code",
      "metadata": {
        "id": "VxinO48ylmDW",
        "outputId": "4e534289-a953-475a-9926-a19ff05e0434",
        "colab": {
          "base_uri": "https://localhost:8080/",
          "height": 299
        }
      },
      "source": [
        "df1=sales_df_2013[['fw', 'sales']].groupby('fw').sum()\n",
        "df1['cum']=df1.cumsum()\n",
        "df2=sales_df_2014[['fw', 'sales']].groupby('fw').sum()\n",
        "df2['cum']=df2.cumsum()\n",
        "df3=sales_df_2015[['fw', 'sales']].groupby('fw').sum()\n",
        "df3['cum']=df3.cumsum()\n",
        "fig, ax = plt.subplots()\n",
        "plt.plot(df1.cum,color='blue')\n",
        "plt.plot(df2.cum,color='green')\n",
        "plt.plot(df3.cum,color='red')\n",
        "plt.title(\"Unique items sold\")"
      ],
      "execution_count": null,
      "outputs": [
        {
          "output_type": "execute_result",
          "data": {
            "text/plain": [
              "Text(0.5, 1.0, 'Unique items sold')"
            ]
          },
          "metadata": {
            "tags": []
          },
          "execution_count": 19
        },
        {
          "output_type": "display_data",
          "data": {
            "image/png": "[encoded data removed]",
            "text/plain": [
              "<Figure size 432x288 with 1 Axes>"
            ]
          },
          "metadata": {
            "tags": [],
            "needs_background": "light"
          }
        }
      ]
    },
    {
      "cell_type": "code",
      "metadata": {
        "id": "lpWIVia8lU-X",
        "outputId": "1d9dd793-84c2-4bd2-dc65-7f9180718f64",
        "colab": {
          "base_uri": "https://localhost:8080/",
          "height": 1000
        }
      },
      "source": [
        "sales_df_2013"
      ],
      "execution_count": null,
      "outputs": [
        {
          "output_type": "execute_result",
          "data": {
            "text/html": [
              "<div>\n",
              "<style scoped>\n",
              "    .dataframe tbody tr th:only-of-type {\n",
              "        vertical-align: middle;\n",
              "    }\n",
              "\n",
              "    .dataframe tbody tr th {\n",
              "        vertical-align: top;\n",
              "    }\n",
              "\n",
              "    .dataframe thead th {\n",
              "        text-align: right;\n",
              "    }\n",
              "</style>\n",
              "<table border=\"1\" class=\"dataframe\">\n",
              "  <thead>\n",
              "    <tr style=\"text-align: right;\">\n",
              "      <th></th>\n",
              "      <th>date</th>\n",
              "      <th>date_block_num</th>\n",
              "      <th>shop_id</th>\n",
              "      <th>item_id</th>\n",
              "      <th>item_price</th>\n",
              "      <th>item_cnt_day</th>\n",
              "      <th>item_name</th>\n",
              "      <th>item_idr</th>\n",
              "      <th>item_category_id</th>\n",
              "      <th>item_category_name</th>\n",
              "      <th>item_category_idr</th>\n",
              "      <th>shop_name</th>\n",
              "      <th>shop_idr</th>\n",
              "      <th>fw</th>\n",
              "      <th>fm</th>\n",
              "      <th>fy</th>\n",
              "      <th>wd</th>\n",
              "      <th>sales</th>\n",
              "    </tr>\n",
              "  </thead>\n",
              "  <tbody>\n",
              "    <tr>\n",
              "      <th>0</th>\n",
              "      <td>2013-01-02</td>\n",
              "      <td>0</td>\n",
              "      <td>59</td>\n",
              "      <td>22154</td>\n",
              "      <td>999.00</td>\n",
              "      <td>1.0</td>\n",
              "      <td>ЯВЛЕНИЕ 2012 (BD)</td>\n",
              "      <td>22154</td>\n",
              "      <td>37</td>\n",
              "      <td>Кино - Blu-Ray</td>\n",
              "      <td>37</td>\n",
              "      <td>Ярославль ТЦ \"Альтаир\"</td>\n",
              "      <td>59</td>\n",
              "      <td>1</td>\n",
              "      <td>1</td>\n",
              "      <td>2013</td>\n",
              "      <td>2</td>\n",
              "      <td>999.00</td>\n",
              "    </tr>\n",
              "    <tr>\n",
              "      <th>1</th>\n",
              "      <td>2013-01-03</td>\n",
              "      <td>0</td>\n",
              "      <td>25</td>\n",
              "      <td>2552</td>\n",
              "      <td>899.00</td>\n",
              "      <td>1.0</td>\n",
              "      <td>DEEP PURPLE  The House Of Blue Light  LP</td>\n",
              "      <td>2552</td>\n",
              "      <td>58</td>\n",
              "      <td>Музыка - Винил</td>\n",
              "      <td>58</td>\n",
              "      <td>Москва ТРК \"Атриум\"</td>\n",
              "      <td>25</td>\n",
              "      <td>1</td>\n",
              "      <td>1</td>\n",
              "      <td>2013</td>\n",
              "      <td>3</td>\n",
              "      <td>899.00</td>\n",
              "    </tr>\n",
              "    <tr>\n",
              "      <th>2</th>\n",
              "      <td>2013-01-05</td>\n",
              "      <td>0</td>\n",
              "      <td>25</td>\n",
              "      <td>2552</td>\n",
              "      <td>899.00</td>\n",
              "      <td>-1.0</td>\n",
              "      <td>DEEP PURPLE  The House Of Blue Light  LP</td>\n",
              "      <td>2552</td>\n",
              "      <td>58</td>\n",
              "      <td>Музыка - Винил</td>\n",
              "      <td>58</td>\n",
              "      <td>Москва ТРК \"Атриум\"</td>\n",
              "      <td>25</td>\n",
              "      <td>1</td>\n",
              "      <td>1</td>\n",
              "      <td>2013</td>\n",
              "      <td>5</td>\n",
              "      <td>-899.00</td>\n",
              "    </tr>\n",
              "    <tr>\n",
              "      <th>3</th>\n",
              "      <td>2013-01-06</td>\n",
              "      <td>0</td>\n",
              "      <td>25</td>\n",
              "      <td>2554</td>\n",
              "      <td>1709.05</td>\n",
              "      <td>1.0</td>\n",
              "      <td>DEEP PURPLE  Who Do You Think We Are  LP</td>\n",
              "      <td>2554</td>\n",
              "      <td>58</td>\n",
              "      <td>Музыка - Винил</td>\n",
              "      <td>58</td>\n",
              "      <td>Москва ТРК \"Атриум\"</td>\n",
              "      <td>25</td>\n",
              "      <td>1</td>\n",
              "      <td>1</td>\n",
              "      <td>2013</td>\n",
              "      <td>6</td>\n",
              "      <td>1709.05</td>\n",
              "    </tr>\n",
              "    <tr>\n",
              "      <th>4</th>\n",
              "      <td>2013-01-15</td>\n",
              "      <td>0</td>\n",
              "      <td>25</td>\n",
              "      <td>2555</td>\n",
              "      <td>1099.00</td>\n",
              "      <td>1.0</td>\n",
              "      <td>DEEP PURPLE 30 Very Best Of 2CD (Фирм.)</td>\n",
              "      <td>2555</td>\n",
              "      <td>56</td>\n",
              "      <td>Музыка - CD фирменного производства</td>\n",
              "      <td>56</td>\n",
              "      <td>Москва ТРК \"Атриум\"</td>\n",
              "      <td>25</td>\n",
              "      <td>3</td>\n",
              "      <td>1</td>\n",
              "      <td>2013</td>\n",
              "      <td>1</td>\n",
              "      <td>1099.00</td>\n",
              "    </tr>\n",
              "    <tr>\n",
              "      <th>...</th>\n",
              "      <td>...</td>\n",
              "      <td>...</td>\n",
              "      <td>...</td>\n",
              "      <td>...</td>\n",
              "      <td>...</td>\n",
              "      <td>...</td>\n",
              "      <td>...</td>\n",
              "      <td>...</td>\n",
              "      <td>...</td>\n",
              "      <td>...</td>\n",
              "      <td>...</td>\n",
              "      <td>...</td>\n",
              "      <td>...</td>\n",
              "      <td>...</td>\n",
              "      <td>...</td>\n",
              "      <td>...</td>\n",
              "      <td>...</td>\n",
              "      <td>...</td>\n",
              "    </tr>\n",
              "    <tr>\n",
              "      <th>1267557</th>\n",
              "      <td>2013-12-06</td>\n",
              "      <td>11</td>\n",
              "      <td>46</td>\n",
              "      <td>5671</td>\n",
              "      <td>2690.00</td>\n",
              "      <td>1.0</td>\n",
              "      <td>PS4: Контроллер игровой беспроводной синий (Du...</td>\n",
              "      <td>5671</td>\n",
              "      <td>3</td>\n",
              "      <td>Аксессуары - PS4</td>\n",
              "      <td>3</td>\n",
              "      <td>Сергиев Посад ТЦ \"7Я\"</td>\n",
              "      <td>46</td>\n",
              "      <td>49</td>\n",
              "      <td>12</td>\n",
              "      <td>2013</td>\n",
              "      <td>4</td>\n",
              "      <td>2690.00</td>\n",
              "    </tr>\n",
              "    <tr>\n",
              "      <th>1267558</th>\n",
              "      <td>2013-12-01</td>\n",
              "      <td>11</td>\n",
              "      <td>46</td>\n",
              "      <td>5671</td>\n",
              "      <td>2590.00</td>\n",
              "      <td>3.0</td>\n",
              "      <td>PS4: Контроллер игровой беспроводной синий (Du...</td>\n",
              "      <td>5671</td>\n",
              "      <td>3</td>\n",
              "      <td>Аксессуары - PS4</td>\n",
              "      <td>3</td>\n",
              "      <td>Сергиев Посад ТЦ \"7Я\"</td>\n",
              "      <td>46</td>\n",
              "      <td>48</td>\n",
              "      <td>12</td>\n",
              "      <td>2013</td>\n",
              "      <td>6</td>\n",
              "      <td>7770.00</td>\n",
              "    </tr>\n",
              "    <tr>\n",
              "      <th>1267559</th>\n",
              "      <td>2013-12-26</td>\n",
              "      <td>11</td>\n",
              "      <td>46</td>\n",
              "      <td>5669</td>\n",
              "      <td>2690.00</td>\n",
              "      <td>2.0</td>\n",
              "      <td>PS4: Контроллер игровой беспроводной красный (...</td>\n",
              "      <td>5669</td>\n",
              "      <td>3</td>\n",
              "      <td>Аксессуары - PS4</td>\n",
              "      <td>3</td>\n",
              "      <td>Сергиев Посад ТЦ \"7Я\"</td>\n",
              "      <td>46</td>\n",
              "      <td>52</td>\n",
              "      <td>12</td>\n",
              "      <td>2013</td>\n",
              "      <td>3</td>\n",
              "      <td>5380.00</td>\n",
              "    </tr>\n",
              "    <tr>\n",
              "      <th>1267560</th>\n",
              "      <td>2013-12-25</td>\n",
              "      <td>11</td>\n",
              "      <td>46</td>\n",
              "      <td>5669</td>\n",
              "      <td>2690.00</td>\n",
              "      <td>1.0</td>\n",
              "      <td>PS4: Контроллер игровой беспроводной красный (...</td>\n",
              "      <td>5669</td>\n",
              "      <td>3</td>\n",
              "      <td>Аксессуары - PS4</td>\n",
              "      <td>3</td>\n",
              "      <td>Сергиев Посад ТЦ \"7Я\"</td>\n",
              "      <td>46</td>\n",
              "      <td>52</td>\n",
              "      <td>12</td>\n",
              "      <td>2013</td>\n",
              "      <td>2</td>\n",
              "      <td>2690.00</td>\n",
              "    </tr>\n",
              "    <tr>\n",
              "      <th>1267561</th>\n",
              "      <td>2013-12-19</td>\n",
              "      <td>11</td>\n",
              "      <td>46</td>\n",
              "      <td>5671</td>\n",
              "      <td>2690.00</td>\n",
              "      <td>1.0</td>\n",
              "      <td>PS4: Контроллер игровой беспроводной синий (Du...</td>\n",
              "      <td>5671</td>\n",
              "      <td>3</td>\n",
              "      <td>Аксессуары - PS4</td>\n",
              "      <td>3</td>\n",
              "      <td>Сергиев Посад ТЦ \"7Я\"</td>\n",
              "      <td>46</td>\n",
              "      <td>51</td>\n",
              "      <td>12</td>\n",
              "      <td>2013</td>\n",
              "      <td>3</td>\n",
              "      <td>2690.00</td>\n",
              "    </tr>\n",
              "  </tbody>\n",
              "</table>\n",
              "<p>1267562 rows × 18 columns</p>\n",
              "</div>"
            ],
            "text/plain": [
              "              date  date_block_num  shop_id  item_id  ...  fm    fy wd    sales\n",
              "0       2013-01-02               0       59    22154  ...   1  2013  2   999.00\n",
              "1       2013-01-03               0       25     2552  ...   1  2013  3   899.00\n",
              "2       2013-01-05               0       25     2552  ...   1  2013  5  -899.00\n",
              "3       2013-01-06               0       25     2554  ...   1  2013  6  1709.05\n",
              "4       2013-01-15               0       25     2555  ...   1  2013  1  1099.00\n",
              "...            ...             ...      ...      ...  ...  ..   ... ..      ...\n",
              "1267557 2013-12-06              11       46     5671  ...  12  2013  4  2690.00\n",
              "1267558 2013-12-01              11       46     5671  ...  12  2013  6  7770.00\n",
              "1267559 2013-12-26              11       46     5669  ...  12  2013  3  5380.00\n",
              "1267560 2013-12-25              11       46     5669  ...  12  2013  2  2690.00\n",
              "1267561 2013-12-19              11       46     5671  ...  12  2013  3  2690.00\n",
              "\n",
              "[1267562 rows x 18 columns]"
            ]
          },
          "metadata": {
            "tags": []
          },
          "execution_count": 20
        }
      ]
    },
    {
      "cell_type": "code",
      "metadata": {
        "id": "ZF7K5hoQrtJa",
        "outputId": "b3c77f92-fabd-4ca2-db5d-24d1214a4379",
        "colab": {
          "base_uri": "https://localhost:8080/",
          "height": 299
        }
      },
      "source": [
        "df = sales_df[['fm', 'item_cnt_day']].groupby('fm').sum()\n",
        "\n",
        "fig, ax = plt.subplots()\n",
        "plt.plot(df.item_cnt_day)\n",
        "plt.title(\"total items sold\")\n"
      ],
      "execution_count": null,
      "outputs": [
        {
          "output_type": "execute_result",
          "data": {
            "text/plain": [
              "Text(0.5, 1.0, 'total items sold')"
            ]
          },
          "metadata": {
            "tags": []
          },
          "execution_count": 21
        },
        {
          "output_type": "display_data",
          "data": {
            "image/png": "[encoded data removed]",
            "text/plain": [
              "<Figure size 432x288 with 1 Axes>"
            ]
          },
          "metadata": {
            "tags": [],
            "needs_background": "light"
          }
        }
      ]
    },
    {
      "cell_type": "code",
      "metadata": {
        "id": "SiTYCYPl9sFD",
        "outputId": "6c50569d-d1a1-446a-cdfd-ca22dafdd4be",
        "colab": {
          "base_uri": "https://localhost:8080/",
          "height": 299
        }
      },
      "source": [
        "f = sales_df[['date_block_num', 'item_cnt_day']].groupby('date_block_num').sum()\n",
        "\n",
        "fig, ax = plt.subplots()\n",
        "plt.plot(df.item_cnt_day)\n",
        "plt.title(\"total items sold\")\n"
      ],
      "execution_count": null,
      "outputs": [
        {
          "output_type": "execute_result",
          "data": {
            "text/plain": [
              "Text(0.5, 1.0, 'total items sold')"
            ]
          },
          "metadata": {
            "tags": []
          },
          "execution_count": 22
        },
        {
          "output_type": "display_data",
          "data": {
            "image/png": "[encoded data removed]",
            "text/plain": [
              "<Figure size 432x288 with 1 Axes>"
            ]
          },
          "metadata": {
            "tags": [],
            "needs_background": "light"
          }
        }
      ]
    },
    {
      "cell_type": "code",
      "metadata": {
        "id": "Ccg0EmOx-hyw",
        "outputId": "25055193-0c04-4543-8d35-42bcc0d43e29",
        "colab": {
          "base_uri": "https://localhost:8080/",
          "height": 299
        }
      },
      "source": [
        "df = sales_df[['fm', 'sales']].groupby('fm').sum()\n",
        "\n",
        "f, ax = plt.subplots()\n",
        "plt.plot(df.sales)\n",
        "plt.title(\"Total sales generated\")"
      ],
      "execution_count": null,
      "outputs": [
        {
          "output_type": "execute_result",
          "data": {
            "text/plain": [
              "Text(0.5, 1.0, 'Total sales generated')"
            ]
          },
          "metadata": {
            "tags": []
          },
          "execution_count": 23
        },
        {
          "output_type": "display_data",
          "data": {
            "image/png": "[encoded data removed]",
            "text/plain": [
              "<Figure size 432x288 with 1 Axes>"
            ]
          },
          "metadata": {
            "tags": [],
            "needs_background": "light"
          }
        }
      ]
    },
    {
      "cell_type": "code",
      "metadata": {
        "id": "SuNdmpVk5A2y",
        "outputId": "e20d5219-d75b-4dc9-e2d7-d2c04b7c9650",
        "colab": {
          "base_uri": "https://localhost:8080/",
          "height": 299
        }
      },
      "source": [
        "\n",
        "df = sales_df[['date_block_num', 'sales']].groupby('date_block_num').sum()\n",
        "\n",
        "f, ax = plt.subplots()\n",
        "plt.plot(df.sales)\n",
        "plt.title(\"Total sales generated\")"
      ],
      "execution_count": null,
      "outputs": [
        {
          "output_type": "execute_result",
          "data": {
            "text/plain": [
              "Text(0.5, 1.0, 'Total sales generated')"
            ]
          },
          "metadata": {
            "tags": []
          },
          "execution_count": 24
        },
        {
          "output_type": "display_data",
          "data": {
            "image/png": "[encoded data removed]",
            "text/plain": [
              "<Figure size 432x288 with 1 Axes>"
            ]
          },
          "metadata": {
            "tags": [],
            "needs_background": "light"
          }
        }
      ]
    },
    {
      "cell_type": "code",
      "metadata": {
        "id": "Qv9JqQdf-t0K",
        "outputId": "e7e61758-a01a-4522-8e95-b14df7088041",
        "colab": {
          "base_uri": "https://localhost:8080/",
          "height": 469
        }
      },
      "source": [
        "hm = sales_df.pivot_table(index='shop_id', columns='item_category_id', values='sales', aggfunc='nunique', fill_value=0)\n",
        "\n",
        "fig, ax = plt.subplots(figsize=(30,10))\n",
        "cmap = sns.cubehelix_palette(8, as_cmap=True, dark=0, light=1, gamma=0.8, reverse=True)\n",
        "plt.title(\"Count of Unique items sold\")\n",
        "_ = sns.heatmap(hm, ax=ax, cmap=cmap, cbar=False, xticklabels=False)\n"
      ],
      "execution_count": null,
      "outputs": [
        {
          "output_type": "display_data",
          "data": {
            "image/png": "[encoded data removed]",
            "text/plain": [
              "<Figure size 2160x720 with 1 Axes>"
            ]
          },
          "metadata": {
            "tags": [],
            "needs_background": "light"
          }
        }
      ]
    },
    {
      "cell_type": "code",
      "metadata": {
        "id": "LgNrr2F-_bo9",
        "outputId": "b72152b0-c2b7-41cd-c779-0d97febb5b07",
        "colab": {
          "base_uri": "https://localhost:8080/",
          "height": 290
        }
      },
      "source": [
        "year_count = sales_df.groupby('fy').count().item_id.reset_index()\n",
        "year_count.columns = ['fy', 'total_bill']\n",
        "month_count = sales_df.groupby('fm').count().item_id.reset_index()\n",
        "month_count.columns = ['fm', 'total_bill']\n",
        "weekday_count = sales_df.groupby('wd').count().item_id.reset_index()\n",
        "weekday_count.columns = ['wd', 'total_bill']\n",
        "\n",
        "fig, axes = plt.subplots(1, 3, figsize=(20, 4))\n",
        "sns.barplot(x='fy', y='total_bill', data=year_count, ax=axes[0])\n",
        "sns.barplot(x='fm', y='total_bill', data=month_count, ax=axes[1])\n",
        "sns.barplot(x='wd', y='total_bill', data=weekday_count, ax=axes[2])\n",
        "plt.show()"
      ],
      "execution_count": null,
      "outputs": [
        {
          "output_type": "display_data",
          "data": {
            "image/png": "[encoded data removed]",
            "text/plain": [
              "<Figure size 1440x288 with 3 Axes>"
            ]
          },
          "metadata": {
            "tags": [],
            "needs_background": "light"
          }
        }
      ]
    },
    {
      "cell_type": "code",
      "metadata": {
        "id": "sJYd2P0ssptO",
        "outputId": "3db1fef8-3ef5-40d6-eae0-844b23c37c88",
        "colab": {
          "base_uri": "https://localhost:8080/",
          "height": 138
        }
      },
      "source": [
        "year_count"
      ],
      "execution_count": null,
      "outputs": [
        {
          "output_type": "execute_result",
          "data": {
            "text/html": [
              "<div>\n",
              "<style scoped>\n",
              "    .dataframe tbody tr th:only-of-type {\n",
              "        vertical-align: middle;\n",
              "    }\n",
              "\n",
              "    .dataframe tbody tr th {\n",
              "        vertical-align: top;\n",
              "    }\n",
              "\n",
              "    .dataframe thead th {\n",
              "        text-align: right;\n",
              "    }\n",
              "</style>\n",
              "<table border=\"1\" class=\"dataframe\">\n",
              "  <thead>\n",
              "    <tr style=\"text-align: right;\">\n",
              "      <th></th>\n",
              "      <th>fy</th>\n",
              "      <th>total_bill</th>\n",
              "    </tr>\n",
              "  </thead>\n",
              "  <tbody>\n",
              "    <tr>\n",
              "      <th>0</th>\n",
              "      <td>2013</td>\n",
              "      <td>1267562</td>\n",
              "    </tr>\n",
              "    <tr>\n",
              "      <th>1</th>\n",
              "      <td>2014</td>\n",
              "      <td>1055861</td>\n",
              "    </tr>\n",
              "    <tr>\n",
              "      <th>2</th>\n",
              "      <td>2015</td>\n",
              "      <td>612426</td>\n",
              "    </tr>\n",
              "  </tbody>\n",
              "</table>\n",
              "</div>"
            ],
            "text/plain": [
              "     fy  total_bill\n",
              "0  2013     1267562\n",
              "1  2014     1055861\n",
              "2  2015      612426"
            ]
          },
          "metadata": {
            "tags": []
          },
          "execution_count": 27
        }
      ]
    },
    {
      "cell_type": "code",
      "metadata": {
        "id": "bgrqG1xVLimG",
        "outputId": "83e284ac-906f-4593-a09f-d2324022073c",
        "colab": {
          "base_uri": "https://localhost:8080/",
          "height": 290
        }
      },
      "source": [
        "year_count = sales_df.groupby('fy').sum().item_cnt_day.reset_index()\n",
        "year_count.columns = ['fy', 'total_bill']\n",
        "month_count = sales_df.groupby('fy').sum().sales.reset_index()\n",
        "month_count.columns = ['fy', 'total_bill']\n",
        "weekday_count = sales_df.groupby('wd').sum().item_cnt_day.reset_index()\n",
        "weekday_count.columns = ['wd', 'total_bill']\n",
        "\n",
        "fig, axes = plt.subplots(1, 3, figsize=(20, 4))\n",
        "sns.barplot(x='fy', y='total_bill', data=year_count, ax=axes[0])\n",
        "sns.barplot(x='fy', y='total_bill', data=month_count, ax=axes[1])\n",
        "sns.barplot(x='wd', y='total_bill', data=weekday_count, ax=axes[2])\n",
        "plt.show()"
      ],
      "execution_count": null,
      "outputs": [
        {
          "output_type": "display_data",
          "data": {
            "image/png": "[encoded data removed]",
            "text/plain": [
              "<Figure size 1440x288 with 3 Axes>"
            ]
          },
          "metadata": {
            "tags": [],
            "needs_background": "light"
          }
        }
      ]
    },
    {
      "cell_type": "code",
      "metadata": {
        "id": "CAYhkaaKMIkt",
        "outputId": "4aa6fd83-bdb2-428d-de53-a58aaa580c14",
        "colab": {
          "base_uri": "https://localhost:8080/",
          "height": 402
        }
      },
      "source": [
        "plt.figure(figsize=(35,10))\n",
        "sns.countplot(x='date_block_num', data=sales_df);"
      ],
      "execution_count": null,
      "outputs": [
        {
          "output_type": "display_data",
          "data": {
            "image/png": "[encoded data removed]",
            "text/plain": [
              "<Figure size 2520x720 with 1 Axes>"
            ]
          },
          "metadata": {
            "tags": [],
            "needs_background": "light"
          }
        }
      ]
    },
    {
      "cell_type": "code",
      "metadata": {
        "id": "HzRXQCVSMW_k",
        "outputId": "e030a276-ee7c-4ea9-9b24-f175a5947c74",
        "colab": {
          "base_uri": "https://localhost:8080/",
          "height": 420
        }
      },
      "source": [
        "plt.figure(figsize=(35,10))\n",
        "sns.countplot(x='shop_id', data=sales_df)"
      ],
      "execution_count": null,
      "outputs": [
        {
          "output_type": "execute_result",
          "data": {
            "text/plain": [
              "<matplotlib.axes._subplots.AxesSubplot at 0x7f932b1faf28>"
            ]
          },
          "metadata": {
            "tags": []
          },
          "execution_count": 30
        },
        {
          "output_type": "display_data",
          "data": {
            "image/png": "[encoded data removed]",
            "text/plain": [
              "<Figure size 2520x720 with 1 Axes>"
            ]
          },
          "metadata": {
            "tags": [],
            "needs_background": "light"
          }
        }
      ]
    },
    {
      "cell_type": "code",
      "metadata": {
        "id": "sIIv00vEMpGw",
        "outputId": "3c13ab90-44af-4222-92cc-a27e4f188588",
        "colab": {
          "base_uri": "https://localhost:8080/",
          "height": 420
        }
      },
      "source": [
        "plt.figure(figsize=(35,10))\n",
        "sns.countplot(x='item_category_id', data=sales_df)"
      ],
      "execution_count": null,
      "outputs": [
        {
          "output_type": "execute_result",
          "data": {
            "text/plain": [
              "<matplotlib.axes._subplots.AxesSubplot at 0x7f932b198240>"
            ]
          },
          "metadata": {
            "tags": []
          },
          "execution_count": 31
        },
        {
          "output_type": "display_data",
          "data": {
            "image/png": "[encoded data removed]",
            "text/plain": [
              "<Figure size 2520x720 with 1 Axes>"
            ]
          },
          "metadata": {
            "tags": [],
            "needs_background": "light"
          }
        }
      ]
    },
    {
      "cell_type": "code",
      "metadata": {
        "id": "Z3RHd86sYc6Z",
        "outputId": "706cb70a-0b7d-482e-d451-5756e1267bec",
        "colab": {
          "base_uri": "https://localhost:8080/",
          "height": 638
        }
      },
      "source": [
        "plt.rcParams[\"figure.figsize\"] = (20,10)\n",
        "#$finaldataset.groupby(['shop_id']).sum().sort_values('Sales').plot.bar(y='Sales',color='g')\n",
        "sales_df.groupby(['item_category_id']).sum().plot.bar(y='sales')"
      ],
      "execution_count": null,
      "outputs": [
        {
          "output_type": "execute_result",
          "data": {
            "text/plain": [
              "<matplotlib.axes._subplots.AxesSubplot at 0x7f932b02a4a8>"
            ]
          },
          "metadata": {
            "tags": []
          },
          "execution_count": 32
        },
        {
          "output_type": "display_data",
          "data": {
            "image/png": "[encoded data removed]",
            "text/plain": [
              "<Figure size 1440x720 with 1 Axes>"
            ]
          },
          "metadata": {
            "tags": [],
            "needs_background": "light"
          }
        }
      ]
    },
    {
      "cell_type": "code",
      "metadata": {
        "id": "QnBOSA_nY3Ce",
        "outputId": "7a2fd9c1-f9e1-4222-fc13-8d1e4b8edab0",
        "colab": {
          "base_uri": "https://localhost:8080/",
          "height": 635
        }
      },
      "source": [
        "sales_monthly = pd.DataFrame(sales_df.groupby(['item_category_id'])['sales'].sum().reset_index().sort_values('item_category_id'))\n",
        "plt.figure(figsize=(20,10))\n",
        "sns.barplot(x=\"item_category_id\", y=\"sales\", data=sales_monthly , order=sales_monthly['item_category_id'])"
      ],
      "execution_count": null,
      "outputs": [
        {
          "output_type": "execute_result",
          "data": {
            "text/plain": [
              "<matplotlib.axes._subplots.AxesSubplot at 0x7f932adcbda0>"
            ]
          },
          "metadata": {
            "tags": []
          },
          "execution_count": 33
        },
        {
          "output_type": "display_data",
          "data": {
            "image/png": "[encoded data removed]",
            "text/plain": [
              "<Figure size 1440x720 with 1 Axes>"
            ]
          },
          "metadata": {
            "tags": [],
            "needs_background": "light"
          }
        }
      ]
    },
    {
      "cell_type": "code",
      "metadata": {
        "id": "Y72i9axdM2ro",
        "outputId": "3241fd5d-5c06-4139-bef8-d737a4c58c39",
        "colab": {
          "base_uri": "https://localhost:8080/",
          "height": 419
        }
      },
      "source": [
        "sales_monthly = pd.DataFrame(sales_df.groupby(['date_block_num'])['item_cnt_day'].sum().reset_index().sort_values('item_cnt_day'))\n",
        "plt.figure(figsize=(35,10))\n",
        "sns.barplot(x=\"date_block_num\", y=\"item_cnt_day\", data=sales_monthly , order=sales_monthly['date_block_num'])"
      ],
      "execution_count": null,
      "outputs": [
        {
          "output_type": "execute_result",
          "data": {
            "text/plain": [
              "<matplotlib.axes._subplots.AxesSubplot at 0x7f932ab11c88>"
            ]
          },
          "metadata": {
            "tags": []
          },
          "execution_count": 34
        },
        {
          "output_type": "display_data",
          "data": {
            "image/png": "[encoded data removed]",
            "text/plain": [
              "<Figure size 2520x720 with 1 Axes>"
            ]
          },
          "metadata": {
            "tags": [],
            "needs_background": "light"
          }
        }
      ]
    },
    {
      "cell_type": "code",
      "metadata": {
        "id": "R2b2mfakAGbp",
        "outputId": "796db184-882f-4c94-c2a0-84e4cd4893fc",
        "colab": {
          "base_uri": "https://localhost:8080/",
          "height": 431
        }
      },
      "source": [
        "sales_monthly = pd.DataFrame(sales_df.groupby(['shop_id'])['item_category_id'].sum().reset_index().sort_values('shop_id'))\n",
        "plt.figure(figsize=(35,10))\n",
        "sns.barplot(x=\"shop_id\", y=\"item_category_id\", data=sales_monthly , order=sales_monthly['shop_id'])"
      ],
      "execution_count": null,
      "outputs": [
        {
          "output_type": "execute_result",
          "data": {
            "text/plain": [
              "<matplotlib.axes._subplots.AxesSubplot at 0x7f932b1985c0>"
            ]
          },
          "metadata": {
            "tags": []
          },
          "execution_count": 35
        },
        {
          "output_type": "display_data",
          "data": {
            "image/png": "[encoded data removed]",
            "text/plain": [
              "<Figure size 2520x720 with 1 Axes>"
            ]
          },
          "metadata": {
            "tags": [],
            "needs_background": "light"
          }
        }
      ]
    },
    {
      "cell_type": "code",
      "metadata": {
        "id": "8oaHaIBiN351",
        "outputId": "096be6bc-e467-4199-ffc8-db6764aa542d",
        "colab": {
          "base_uri": "https://localhost:8080/",
          "height": 431
        }
      },
      "source": [
        "sales_monthly_sales= pd.DataFrame(sales_df.groupby(['date_block_num'])['sales'].sum().reset_index().sort_values('sales'))\n",
        "plt.figure(figsize=(35,10))\n",
        "sns.barplot(x=\"date_block_num\", y=\"sales\", data=sales_monthly_sales, order=sales_monthly_sales['date_block_num'])"
      ],
      "execution_count": null,
      "outputs": [
        {
          "output_type": "execute_result",
          "data": {
            "text/plain": [
              "<matplotlib.axes._subplots.AxesSubplot at 0x7f932a7a1ef0>"
            ]
          },
          "metadata": {
            "tags": []
          },
          "execution_count": 36
        },
        {
          "output_type": "display_data",
          "data": {
            "image/png": "[encoded data removed]",
            "text/plain": [
              "<Figure size 2520x720 with 1 Axes>"
            ]
          },
          "metadata": {
            "tags": [],
            "needs_background": "light"
          }
        }
      ]
    },
    {
      "cell_type": "code",
      "metadata": {
        "id": "A-kxu-EfOsq5",
        "outputId": "6c30577f-6ef2-458d-9d46-220126cebe1c",
        "colab": {
          "base_uri": "https://localhost:8080/",
          "height": 431
        }
      },
      "source": [
        "sales_monthly_sales= pd.DataFrame(sales_df.groupby(['shop_id'])['sales'].sum().reset_index().sort_values('sales'))\n",
        "plt.figure(figsize=(35,10))\n",
        "sns.barplot(x=\"shop_id\", y=\"sales\", data=sales_monthly_sales, order=sales_monthly_sales['shop_id'])"
      ],
      "execution_count": null,
      "outputs": [
        {
          "output_type": "execute_result",
          "data": {
            "text/plain": [
              "<matplotlib.axes._subplots.AxesSubplot at 0x7f932a78fcf8>"
            ]
          },
          "metadata": {
            "tags": []
          },
          "execution_count": 37
        },
        {
          "output_type": "display_data",
          "data": {
            "image/png": "[encoded data removed]",
            "text/plain": [
              "<Figure size 2520x720 with 1 Axes>"
            ]
          },
          "metadata": {
            "tags": [],
            "needs_background": "light"
          }
        }
      ]
    },
    {
      "cell_type": "code",
      "metadata": {
        "id": "m9DL15IXO4fo",
        "outputId": "7c90cf5b-4c21-4a33-a10c-5862a80a3589",
        "colab": {
          "base_uri": "https://localhost:8080/",
          "height": 419
        }
      },
      "source": [
        "sales_monthly_sales= pd.DataFrame(sales_df.groupby(['shop_id'])['item_cnt_day'].sum().reset_index().sort_values('item_cnt_day'))\n",
        "plt.figure(figsize=(35,10))\n",
        "sns.barplot(x=\"shop_id\", y=\"item_cnt_day\", data=sales_monthly_sales, order=sales_monthly_sales['shop_id'])"
      ],
      "execution_count": null,
      "outputs": [
        {
          "output_type": "execute_result",
          "data": {
            "text/plain": [
              "<matplotlib.axes._subplots.AxesSubplot at 0x7f932a60f2b0>"
            ]
          },
          "metadata": {
            "tags": []
          },
          "execution_count": 38
        },
        {
          "output_type": "display_data",
          "data": {
            "image/png": "[encoded data removed]",
            "text/plain": [
              "<Figure size 2520x720 with 1 Axes>"
            ]
          },
          "metadata": {
            "tags": [],
            "needs_background": "light"
          }
        }
      ]
    },
    {
      "cell_type": "code",
      "metadata": {
        "id": "V2fpVXaqnohi",
        "outputId": "8fee75de-046e-4492-eed5-fba9486f9b81",
        "colab": {
          "base_uri": "https://localhost:8080/",
          "height": 625
        }
      },
      "source": [
        "df = sales_df[['date_block_num', 'item_id']].groupby('date_block_num').nunique()\n",
        "df1 = sales_df[['date_block_num', 'sales']].groupby('date_block_num').nunique()\n",
        "\n",
        "plt.plot(df.item_id)\n",
        "plt.plot(df1.sales)\n",
        "plt.title(\"Unique items sold\")\n",
        "\n",
        "\n"
      ],
      "execution_count": null,
      "outputs": [
        {
          "output_type": "execute_result",
          "data": {
            "text/plain": [
              "Text(0.5, 1.0, 'Unique items sold')"
            ]
          },
          "metadata": {
            "tags": []
          },
          "execution_count": 39
        },
        {
          "output_type": "display_data",
          "data": {
            "image/png": "[encoded data removed]",
            "text/plain": [
              "<Figure size 1440x720 with 1 Axes>"
            ]
          },
          "metadata": {
            "tags": [],
            "needs_background": "light"
          }
        }
      ]
    },
    {
      "cell_type": "code",
      "metadata": {
        "id": "qPuelxR9yPRe",
        "outputId": "d8981bf1-0dfe-470b-f983-21888c1b6e1d",
        "colab": {
          "base_uri": "https://localhost:8080/",
          "height": 72
        }
      },
      "source": [
        "print(sales_df[['item_category_id','shop_id']].corr())"
      ],
      "execution_count": null,
      "outputs": [
        {
          "output_type": "stream",
          "text": [
            "                  item_category_id  shop_id\n",
            "item_category_id           1.00000  0.01938\n",
            "shop_id                    0.01938  1.00000\n"
          ],
          "name": "stdout"
        }
      ]
    },
    {
      "cell_type": "code",
      "metadata": {
        "id": "oDyfBzRERLLi"
      },
      "source": [
        "from sklearn.feature_extraction.text import TfidfVectorizer"
      ],
      "execution_count": null,
      "outputs": []
    },
    {
      "cell_type": "code",
      "metadata": {
        "id": "GWDqI8-TRdt7",
        "outputId": "ab8d48bc-9ac9-466c-f939-a0945065327a",
        "colab": {
          "base_uri": "https://localhost:8080/",
          "height": 244
        }
      },
      "source": [
        "sales_df2['item_category_name_len'] = sales_df2['item_category_name'].apply(len)\n",
        "sales_df2['item_category_name_wc'] = sales_df2['item_category_name'].apply(lambda x: len(str(x).split(' '))) \n",
        "\n",
        "sales_df2['item_name_len'] = sales_df2['item_name'].apply(len)\n",
        "sales_df2['item_name_wc'] = sales_df2['item_name'].apply(lambda x: len(str(x).split(' '))) \n",
        "sales_df2['shop_name_len'] = sales_df2['shop_name'].apply(len)\n",
        "sales_df2['shop_name_wc'] = sales_df2['shop_name'].apply(lambda x: len(str(x).split(' '))) "
      ],
      "execution_count": null,
      "outputs": [
        {
          "output_type": "error",
          "ename": "NameError",
          "evalue": "ignored",
          "traceback": [
            "\u001b[0;31m---------------------------------------------------------------------------\u001b[0m",
            "\u001b[0;31mNameError\u001b[0m                                 Traceback (most recent call last)",
            "\u001b[0;32m<ipython-input-42-3b165086f448>\u001b[0m in \u001b[0;36m<module>\u001b[0;34m()\u001b[0m\n\u001b[0;32m----> 1\u001b[0;31m \u001b[0msales_df2\u001b[0m\u001b[0;34m[\u001b[0m\u001b[0;34m'item_category_name_len'\u001b[0m\u001b[0;34m]\u001b[0m \u001b[0;34m=\u001b[0m \u001b[0msales_df2\u001b[0m\u001b[0;34m[\u001b[0m\u001b[0;34m'item_category_name'\u001b[0m\u001b[0;34m]\u001b[0m\u001b[0;34m.\u001b[0m\u001b[0mapply\u001b[0m\u001b[0;34m(\u001b[0m\u001b[0mlen\u001b[0m\u001b[0;34m)\u001b[0m\u001b[0;34m\u001b[0m\u001b[0;34m\u001b[0m\u001b[0m\n\u001b[0m\u001b[1;32m      2\u001b[0m \u001b[0msales_df2\u001b[0m\u001b[0;34m[\u001b[0m\u001b[0;34m'item_category_name_wc'\u001b[0m\u001b[0;34m]\u001b[0m \u001b[0;34m=\u001b[0m \u001b[0msales_df2\u001b[0m\u001b[0;34m[\u001b[0m\u001b[0;34m'item_category_name'\u001b[0m\u001b[0;34m]\u001b[0m\u001b[0;34m.\u001b[0m\u001b[0mapply\u001b[0m\u001b[0;34m(\u001b[0m\u001b[0;32mlambda\u001b[0m \u001b[0mx\u001b[0m\u001b[0;34m:\u001b[0m \u001b[0mlen\u001b[0m\u001b[0;34m(\u001b[0m\u001b[0mstr\u001b[0m\u001b[0;34m(\u001b[0m\u001b[0mx\u001b[0m\u001b[0;34m)\u001b[0m\u001b[0;34m.\u001b[0m\u001b[0msplit\u001b[0m\u001b[0;34m(\u001b[0m\u001b[0;34m' '\u001b[0m\u001b[0;34m)\u001b[0m\u001b[0;34m)\u001b[0m\u001b[0;34m)\u001b[0m\u001b[0;34m\u001b[0m\u001b[0;34m\u001b[0m\u001b[0m\n\u001b[1;32m      3\u001b[0m \u001b[0;34m\u001b[0m\u001b[0m\n\u001b[1;32m      4\u001b[0m \u001b[0msales_df2\u001b[0m\u001b[0;34m[\u001b[0m\u001b[0;34m'item_name_len'\u001b[0m\u001b[0;34m]\u001b[0m \u001b[0;34m=\u001b[0m \u001b[0msales_df2\u001b[0m\u001b[0;34m[\u001b[0m\u001b[0;34m'item_name'\u001b[0m\u001b[0;34m]\u001b[0m\u001b[0;34m.\u001b[0m\u001b[0mapply\u001b[0m\u001b[0;34m(\u001b[0m\u001b[0mlen\u001b[0m\u001b[0;34m)\u001b[0m\u001b[0;34m\u001b[0m\u001b[0;34m\u001b[0m\u001b[0m\n\u001b[1;32m      5\u001b[0m \u001b[0msales_df2\u001b[0m\u001b[0;34m[\u001b[0m\u001b[0;34m'item_name_wc'\u001b[0m\u001b[0;34m]\u001b[0m \u001b[0;34m=\u001b[0m \u001b[0msales_df2\u001b[0m\u001b[0;34m[\u001b[0m\u001b[0;34m'item_name'\u001b[0m\u001b[0;34m]\u001b[0m\u001b[0;34m.\u001b[0m\u001b[0mapply\u001b[0m\u001b[0;34m(\u001b[0m\u001b[0;32mlambda\u001b[0m \u001b[0mx\u001b[0m\u001b[0;34m:\u001b[0m \u001b[0mlen\u001b[0m\u001b[0;34m(\u001b[0m\u001b[0mstr\u001b[0m\u001b[0;34m(\u001b[0m\u001b[0mx\u001b[0m\u001b[0;34m)\u001b[0m\u001b[0;34m.\u001b[0m\u001b[0msplit\u001b[0m\u001b[0;34m(\u001b[0m\u001b[0;34m' '\u001b[0m\u001b[0;34m)\u001b[0m\u001b[0;34m)\u001b[0m\u001b[0;34m)\u001b[0m\u001b[0;34m\u001b[0m\u001b[0;34m\u001b[0m\u001b[0m\n",
            "\u001b[0;31mNameError\u001b[0m: name 'sales_df2' is not defined"
          ]
        }
      ]
    },
    {
      "cell_type": "code",
      "metadata": {
        "id": "swgsNaF1ua8a"
      },
      "source": [
        "sales_df2=sales_df"
      ],
      "execution_count": null,
      "outputs": []
    },
    {
      "cell_type": "code",
      "metadata": {
        "id": "7AzHJjBfwaDZ"
      },
      "source": [
        "sales_df2"
      ],
      "execution_count": null,
      "outputs": []
    },
    {
      "cell_type": "code",
      "metadata": {
        "id": "PqQqagbYZYsC"
      },
      "source": [
        "feature_cnt = 30\n",
        "tfidf = TfidfVectorizer(max_df=0.6, max_features=feature_cnt, ngram_range=(1, 2))\n",
        "txtFeatures = pd.DataFrame(tfidf.fit_transform(sales_df2['item_category_name']).toarray())\n",
        "cols = txtFeatures.columns\n",
        "for i in range(feature_cnt):\n",
        "    sales_df2['item_category_name_tfidf_' + str(i)] = txtFeatures[cols[i]]\n",
        "print('item_categories：')\n",
        "print(sales_df2\n",
        "      .head())"
      ],
      "execution_count": null,
      "outputs": []
    },
    {
      "cell_type": "code",
      "metadata": {
        "id": "Gp5oN7y6v4hN"
      },
      "source": [
        "txtFeatures = pd.DataFrame(tfidf.fit_transform(sales_df2['item_name']).toarray())\n",
        "cols = txtFeatures.columns\n",
        "for i in range(feature_cnt):\n",
        "    sales_df2['item_name_tfidf_' + str(i)] = txtFeatures[cols[i]]\n",
        "print('item_name:')\n",
        "print(sales_df2\n",
        "      .head())"
      ],
      "execution_count": null,
      "outputs": []
    },
    {
      "cell_type": "code",
      "metadata": {
        "id": "pmccRyqZwQeO"
      },
      "source": [
        "txtFeatures = pd.DataFrame(tfidf.fit_transform(sales_df2['shop_name']).toarray())\n",
        "cols = txtFeatures.columns\n",
        "for i in range(feature_cnt):\n",
        "    sales_df2['shop_name_tfidf_' + str(i)] = txtFeatures[cols[i]]\n",
        "print('shop_name:')\n",
        "print(sales_df2\n",
        "      .head())"
      ],
      "execution_count": null,
      "outputs": []
    },
    {
      "cell_type": "code",
      "metadata": {
        "id": "kMCzdNMrxy81"
      },
      "source": [
        ""
      ],
      "execution_count": null,
      "outputs": []
    },
    {
      "cell_type": "code",
      "metadata": {
        "id": "M8WB8b5uPHUh"
      },
      "source": [
        "import warnings\n",
        "warnings.filterwarnings('ignore')\n",
        "import pandas as pd\n",
        "from sklearn import datasets, svm, metrics\n",
        "from sklearn.ensemble import RandomForestClassifier\n",
        "from sklearn.ensemble import AdaBoostClassifier\n",
        "from sklearn.model_selection import train_test_split\n",
        "from sklearn.metrics import confusion_matrix\n",
        "from sklearn.metrics import accuracy_score\n",
        "from sklearn.metrics import accuracy_score\n",
        "\n",
        "from sklearn import model_selection\n",
        "from sklearn.metrics import confusion_matrix\n",
        "from sklearn.metrics import accuracy_score \n",
        "from sklearn.neighbors import KNeighborsClassifier\n",
        "from sklearn.linear_model import LogisticRegression\n",
        "from sklearn.naive_bayes import GaussianNB\n",
        "from sklearn.svm import SVC\n",
        "from sklearn.metrics import f1_score \n",
        "from sklearn.tree import DecisionTreeClassifier\n",
        "from sklearn.ensemble import RandomForestClassifier\n",
        "import pandas as pd\n",
        "import numpy as np\n",
        "import matplotlib.pyplot as plt\n",
        "import seaborn as sns\n",
        "\n",
        "\n",
        "\n",
        "\n",
        "\n",
        "list =[['DecisionTreeClassifierEnthropy',DecisionTreeClassifier(criterion = 'entropy', random_state = 0)],\n",
        "       ['DecisionTreeClassifierGini',DecisionTreeClassifier(criterion = 'gini', random_state = 0)],\n",
        "       \n",
        "       [\"K-SVM_rbf\",SVC(kernel = 'rbf', random_state = 0)],\n",
        "       [\"SVM\",svm.SVC(gamma=0.001, C=100)],\n",
        "       [\"NB\",GaussianNB()],\n",
        "       [\"KNN\",KNeighborsClassifier(n_neighbors=28)],\n",
        "       [\"LogisticRegression\",LogisticRegression(random_state = 0) ],\n",
        "       [\"RandomForestClassifier_sqrt\",RandomForestClassifier(n_estimators=1000,criterion ='entropy' ,max_features='sqrt')],\n",
        "       [\"RandomForestClassifier_log2\",RandomForestClassifier(n_estimators=1000,criterion ='entropy' ,max_features='log2')]\n",
        "       ,[\"AdaBoostClassifier\",AdaBoostClassifier(n_estimators=100, learning_rate=1.0, algorithm='SAMME.R', random_state=None)]\n",
        "       ]\n",
        "for i in list: \n",
        "    model=i[1]\n",
        "    fittedModel = model.fit(X_train, y_train)\n",
        "    y_pred = fittedModel.predict(X_test)\n",
        "    #y_pred = model_selection.cross_val_predict(model,features,targets, cv=7)\n",
        "    #y_pred = model_selection.cross_val_predict(model,features,targets, cv=7)\n",
        "    #print(confusion_matrix(y_test, y_pred))\n",
        "    print(i[0]+':'+str(accuracy_score(y_test, y_pred)))\n"
      ],
      "execution_count": null,
      "outputs": []
    },
    {
      "cell_type": "code",
      "metadata": {
        "id": "Hi8ysXbBcTP0"
      },
      "source": [
        "sales_train_df1=sales_train_df[sales_train_df.item_cnt_day<900]\n"
      ],
      "execution_count": null,
      "outputs": []
    },
    {
      "cell_type": "code",
      "metadata": {
        "id": "HX9cLExZdGZQ"
      },
      "source": [
        "sales_train_df1=sales_train_df1[sales_train_df1.item_price<100000]"
      ],
      "execution_count": null,
      "outputs": []
    },
    {
      "cell_type": "code",
      "metadata": {
        "id": "K5G8lEvpeEXc"
      },
      "source": [
        "sales_train_df1['sales']=sales_train_df1['item_price']*sales_train_df1['item_cnt_day']"
      ],
      "execution_count": null,
      "outputs": []
    },
    {
      "cell_type": "code",
      "metadata": {
        "id": "-ln9CleLisd4"
      },
      "source": [
        "sales_train_df1['date']=pd.to_datetime(sales_train_df1['date'], format='%d.%m.%Y', errors='coerce')\n",
        "sales_train_df1['fm']=sales_df['date'].dt.month"
      ],
      "execution_count": null,
      "outputs": []
    },
    {
      "cell_type": "code",
      "metadata": {
        "id": "6VgV5gJ9jHzO"
      },
      "source": [
        "sales_train_df1.info()"
      ],
      "execution_count": null,
      "outputs": []
    },
    {
      "cell_type": "code",
      "metadata": {
        "id": "sde0yOKvdWkm"
      },
      "source": [
        "sales_train_salesmon = sales_train_df1.groupby(['fm'])['sales'].sum().reset_index()"
      ],
      "execution_count": null,
      "outputs": []
    },
    {
      "cell_type": "code",
      "metadata": {
        "id": "qMfVe5ta-mOP"
      },
      "source": [
        "sales_train_salesmon = sales_train_df1.groupby(['date_block_num'])['sales'].sum().reset_index()"
      ],
      "execution_count": null,
      "outputs": []
    },
    {
      "cell_type": "code",
      "metadata": {
        "id": "DqRTGU0XAE1Q"
      },
      "source": [
        "sales_train_salesmon\n"
      ],
      "execution_count": null,
      "outputs": []
    },
    {
      "cell_type": "code",
      "metadata": {
        "id": "UfgyGp8A-4u1"
      },
      "source": [
        "sales_train_salesmon.astype('float')\n",
        "plt.figure(figsize=(16,8))\n",
        "plt.title('Total Sales of the company')\n",
        "plt.xlabel('Time')\n",
        "plt.ylabel('Sales')\n",
        "plt.plot(sales_train_salesmon);"
      ],
      "execution_count": null,
      "outputs": []
    },
    {
      "cell_type": "code",
      "metadata": {
        "id": "MZpBLz1H_X5H"
      },
      "source": [
        "result = seasonal_decompose(sales_train_salesmon['sales'],model = 'multiplicative',freq=12)"
      ],
      "execution_count": null,
      "outputs": []
    },
    {
      "cell_type": "code",
      "metadata": {
        "id": "NKIlKWuC_YYZ"
      },
      "source": [
        "from statsmodels.graphics.tsaplots import plot_acf,plot_pacf"
      ],
      "execution_count": null,
      "outputs": []
    },
    {
      "cell_type": "code",
      "metadata": {
        "id": "Kc3i3kuABHCJ"
      },
      "source": [
        "fig_acf = plot_acf(sales_train_salesmon['sales'])"
      ],
      "execution_count": null,
      "outputs": []
    },
    {
      "cell_type": "code",
      "metadata": {
        "id": "axrEnmskBhvM"
      },
      "source": [
        "fig_pacf = plot_pacf(sales_train_salesmon['sales'])"
      ],
      "execution_count": null,
      "outputs": []
    },
    {
      "cell_type": "code",
      "metadata": {
        "id": "irmA83BMBcEz"
      },
      "source": [
        "def test_stationarity(timeseries):\n",
        "    \n",
        "    #Perform Dickey-Fuller test:\n",
        "    print('Results of Dickey-Fuller Test:')\n",
        "    dftest = adfuller(timeseries, autolag='AIC')\n",
        "    dfoutput = pd.Series(dftest[0:4], index=['Test Statistic','p-value','#Lags Used','Number of Observations Used'])\n",
        "    for key,value in dftest[4].items():\n",
        "        dfoutput['Critical Value (%s)'%key] = value\n",
        "    print (dfoutput)\n",
        "test_stationarity(sales_train_salesmon)\n"
      ],
      "execution_count": null,
      "outputs": []
    },
    {
      "cell_type": "code",
      "metadata": {
        "id": "Zh6-E4JaecvR"
      },
      "source": [
        "sales_train_salesmon.info()"
      ],
      "execution_count": null,
      "outputs": []
    },
    {
      "cell_type": "code",
      "metadata": {
        "id": "zBs4NWnZe0SV"
      },
      "source": [
        "sales_train_salesmon['3-months-SMA'] = sales_train_salesmon['sales'].rolling(window=3).mean()\n",
        "sales_train_salesmon['6-months-SMA'] = sales_train_salesmon['sales'].rolling(window=6).mean()"
      ],
      "execution_count": null,
      "outputs": []
    },
    {
      "cell_type": "code",
      "metadata": {
        "id": "XMQiv1HnfXMh"
      },
      "source": [
        "sales_train_salesmon.plot(figsize=(10,8))"
      ],
      "execution_count": null,
      "outputs": []
    },
    {
      "cell_type": "code",
      "metadata": {
        "id": "kydbm1C_gRzy"
      },
      "source": [
        "from statsmodels.tsa.seasonal import seasonal_decompose "
      ],
      "execution_count": null,
      "outputs": []
    },
    {
      "cell_type": "code",
      "metadata": {
        "id": "P1FfiD_VhRPQ"
      },
      "source": [
        "sales_train_salesmon.index = pd.to_datetime(sales_train_salesmon.index, format='%m')"
      ],
      "execution_count": null,
      "outputs": []
    },
    {
      "cell_type": "code",
      "metadata": {
        "id": "MrgzHrx_eZK0"
      },
      "source": [
        "sales_train_salesmon.set_index('fm',inplace=True)"
      ],
      "execution_count": null,
      "outputs": []
    },
    {
      "cell_type": "code",
      "metadata": {
        "id": "fz3WiqnohWtu"
      },
      "source": [
        "sales_train_salesmon"
      ],
      "execution_count": null,
      "outputs": []
    },
    {
      "cell_type": "code",
      "metadata": {
        "id": "spatDmIMy07s"
      },
      "source": [
        "sales_train_salesmon = sales_train_salesmon.asfreq(pd.infer_freq(sales_train_salesmon.index))"
      ],
      "execution_count": null,
      "outputs": []
    },
    {
      "cell_type": "code",
      "metadata": {
        "id": "PG7tG957uo-J"
      },
      "source": [
        "from datetime import datetime\n",
        "sales_train_df2=sales_train_df1['date'].apply(lambda x: x.strftime('%Y-%m'))"
      ],
      "execution_count": null,
      "outputs": []
    },
    {
      "cell_type": "code",
      "metadata": {
        "id": "rQLTGIjMwEbW"
      },
      "source": [
        "sales_train_salesmon"
      ],
      "execution_count": null,
      "outputs": []
    },
    {
      "cell_type": "code",
      "metadata": {
        "id": "C-MQ5B7AiXfU"
      },
      "source": [
        "avg, dev = sales_train_salesmon.mean(), sales_train_salesmon.std()"
      ],
      "execution_count": null,
      "outputs": []
    },
    {
      "cell_type": "code",
      "metadata": {
        "id": "75oVLhOF0qm4"
      },
      "source": [
        "dev"
      ],
      "execution_count": null,
      "outputs": []
    },
    {
      "cell_type": "code",
      "metadata": {
        "id": "WgidD7Gn16n0"
      },
      "source": [
        "sales_train_salesmon = (sales_train_salesmon - avg) / dev"
      ],
      "execution_count": null,
      "outputs": []
    },
    {
      "cell_type": "code",
      "metadata": {
        "id": "FQ6YCCkcpgyt"
      },
      "source": [
        "plot_series(sales_train_salesmon)\n",
        "plt.axhline(0, linestyle='--', color='k', alpha=0.3)"
      ],
      "execution_count": null,
      "outputs": []
    },
    {
      "cell_type": "code",
      "metadata": {
        "id": "s0D0ph412RtU"
      },
      "source": [
        "sales_train_salesmon"
      ],
      "execution_count": null,
      "outputs": []
    },
    {
      "cell_type": "code",
      "metadata": {
        "id": "8zplN4gQgdrD"
      },
      "source": [
        "result = seasonal_decompose(sales_train_salesmon2['sales'],model = 'multiplicative')"
      ],
      "execution_count": null,
      "outputs": []
    },
    {
      "cell_type": "code",
      "metadata": {
        "id": "1ppT5zcMNPId"
      },
      "source": [
        "result.plot()"
      ],
      "execution_count": null,
      "outputs": []
    },
    {
      "cell_type": "code",
      "metadata": {
        "id": "dvE8X16XrUdH"
      },
      "source": [
        "avg, dev = sales_train_salesmon.mean(), sales_train_salesmon.std()\n"
      ],
      "execution_count": null,
      "outputs": []
    },
    {
      "cell_type": "code",
      "metadata": {
        "id": "wH2i3HOXs9ED"
      },
      "source": [
        "sales_train_salesmon"
      ],
      "execution_count": null,
      "outputs": []
    },
    {
      "cell_type": "code",
      "metadata": {
        "id": "Q0xn9OzxsuBI"
      },
      "source": [
        "def plot_series(series):\n",
        "    plt.figure(figsize=(12,6))\n",
        "    plt.plot(sales_train_salesmon, color='red')\n",
        "    plt.ylabel('Search Frequency for \"sales\"', fontsize=16)"
      ],
      "execution_count": null,
      "outputs": []
    },
    {
      "cell_type": "code",
      "metadata": {
        "id": "htkkl80crebj"
      },
      "source": [
        "\n",
        "sales_train_salesmon = (sales_train_salesmon - avg) / dev\n",
        "plot_series(sales_train_salesmon)\n",
        "plt.axhline(0, linestyle='--', color='k', alpha=0.3)"
      ],
      "execution_count": null,
      "outputs": []
    }
  ]
}